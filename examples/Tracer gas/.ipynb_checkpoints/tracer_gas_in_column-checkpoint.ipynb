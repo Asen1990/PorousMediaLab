{
 "cells": [
  {
   "cell_type": "code",
   "execution_count": 44,
   "metadata": {},
   "outputs": [],
   "source": [
    "import matplotlib.pyplot as plt\n",
    "import sys\n",
    "sys.path.append('../../src')\n",
    "from column import Column\n",
    "import numpy as np\n",
    "%matplotlib inline\n",
    "\n",
    "from measurements import Ch, C1, C2, C3, Tm, zm, D_SF6w, D_SF6g, Kh, phi_m, z_phi, Vh, SA, D_column, Vi, Ci, Ti, SF6_Hcc, T_frz, T_thw\n",
    "\n",
    "import seaborn as sns\n",
    "\n",
    "sns.set_style(\"whitegrid\")\n",
    "plt.rcParams.update({'font.size': 32})\n",
    "sns.set_context(\"poster\", rc={\"font.size\":34,\"axes.titlesize\":34,\"axes.labelsize\":34, \"lines.linewidth\": 4, 'lines.markersize':10})  \n",
    "plt.rcParams['figure.figsize'] = 15, 12\n"
   ]
  },
  {
   "cell_type": "code",
   "execution_count": 45,
   "metadata": {},
   "outputs": [],
   "source": [
    "tend = 150 ## hours\n",
    "dt = 0.1\n",
    "dx = 0.2 ## cm\n",
    "L = 40 ## cm\n",
    "x = np.linspace(0, L, L / dx + 1)\n",
    "t = np.linspace(0, tend, round(tend / dt) + 1)\n",
    "phi = ( 0.99 - 0.7 ) * np.exp( -x / 10 ) + 0.7\n",
    "# phi = 0.8\n",
    "Chs = np.zeros(t.shape) #\n",
    "Fx = np.zeros(t.shape)"
   ]
  },
  {
   "cell_type": "code",
   "execution_count": 46,
   "metadata": {},
   "outputs": [],
   "source": [
    "dT = Tm[1::2] - Tm[::2]\n",
    "dCh = (Ch[1::2] - Ch[::2])\n",
    "Mi = Ci*Vi # mass injected\n",
    "h_inj = Vi/SA/phi"
   ]
  },
  {
   "cell_type": "code",
   "execution_count": 47,
   "metadata": {},
   "outputs": [],
   "source": [
    "# plt.plot(x, phi)\n",
    "# plt.scatter(z_phi, phi_m, label='Measured')\n",
    "# plt.legend()"
   ]
  },
  {
   "cell_type": "code",
   "execution_count": 48,
   "metadata": {},
   "outputs": [],
   "source": [
    "ftc = Column(L, dx, tend, dt, phi)"
   ]
  },
  {
   "cell_type": "code",
   "execution_count": 49,
   "metadata": {
    "collapsed": true
   },
   "outputs": [],
   "source": [
    "# SF6_init = np.zeros(x.size)\n",
    "# SF6_init[x > 0] = 0\n",
    "# SF6_init[x > 18-h_inj/2] = Ci[0]\n",
    "# SF6_init[x > 18+h_inj/2] = 0.\n",
    "# SF6_init[x > 18-h_inj/2] = Ci[0]*10\n",
    "# SF6_init[x > 18+h_inj/2] = 0."
   ]
  },
  {
   "cell_type": "code",
   "execution_count": 50,
   "metadata": {},
   "outputs": [],
   "source": [
    "# plt.plot(SF6_init)"
   ]
  },
  {
   "cell_type": "code",
   "execution_count": 51,
   "metadata": {
    "scrolled": false
   },
   "outputs": [],
   "source": [
    "# theta=0.995\n",
    "k=10\n",
    "# ftc.add_species(is_solute=True, element='SF6w', D=k*D_SF6w, init_C=0, bc_top=0., bc_top_type='flux', bc_bot=0., bc_bot_type='flux')\n",
    "ftc.add_species(is_solute=True, element='SF6g', D=k*D_SF6w, init_C=0, bc_top=0., bc_top_type='constant', bc_bot=0., bc_bot_type='flux', rising_velocity=0.08)\n",
    "# ftc.add_species(is_solute=True, element='tracer', D=D_SF6g, init_C=1, bc_top=0., bc_top_type='flux', bc_bot=0., bc_bot_type='flux')\n",
    "# ftc.add_henry_law_equilibrium(aq='SF6w', gas='SF6g', Hcc=SF6_Hcc)"
   ]
  },
  {
   "cell_type": "code",
   "execution_count": null,
   "metadata": {},
   "outputs": [],
   "source": [
    "# ftc.constants['k_b'] = 16e-6\n",
    "# # ftc.constants['k_b'] = 4e-5\n",
    "# ftc.constants['k_f'] = ftc.constants['k_b']/SF6_Hcc\n",
    "# ftc.rates['Rb'] = 'k_b * SF6g'\n",
    "# ftc.rates['Rf'] = 'k_f * SF6w'\n",
    "# ftc.dcdt['SF6w'] = 'Rb-Rf'\n",
    "# ftc.dcdt['SF6g'] = '-Rb+Rf'\n",
    "Fx = np.zeros(t.size)"
   ]
  },
  {
   "cell_type": "code",
   "execution_count": null,
   "metadata": {},
   "outputs": [],
   "source": [
    "for i in range(0, len(ftc.time)):\n",
    "    if (ftc.time[i] > 120 and ftc.time[i] < 288) or (ftc.time[i] > 456 and ftc.time[i] < 624) or (ftc.time[i] > 792 and ftc.time[i] < 1008):\n",
    "        ftc.change_boundary_conditions('SF6g', i, bc_top=0., bc_top_type='flux')\n",
    "    else:\n",
    "        ftc.change_boundary_conditions('SF6g', i, bc_top=0, bc_top_type='constant')\n",
    "        Fx[i] = ftc.estimate_flux_at_top('SF6g', i)\n",
    "    if any([ftc.time[i] == T_inj for T_inj in Ti]):\n",
    "        SF6_add = np.zeros(x.size)\n",
    "        SF6_add[x > 0] = 0\n",
    "        SF6_add[x > 18-h_inj/2] = Ci[Ti==ftc.time[i]][0]\n",
    "        SF6_add[x > 18+h_inj/2] = 0.\n",
    "        new_profile = ftc.profiles['SF6g'] + SF6_add\n",
    "        ftc.change_concentration_profile('SF6g', i, new_profile)\n",
    "\n",
    "    ftc.integrate_one_timestep(i)\n",
    "        "
   ]
  },
  {
   "cell_type": "code",
   "execution_count": null,
   "metadata": {},
   "outputs": [],
   "source": [
    "# ftc.plot_profile('SF6g'),\n",
    "# plt.scatter([C1[Tm==80], C2[Tm==80], C3[Tm==80]], [-9,-21,-33])"
   ]
  },
  {
   "cell_type": "code",
   "execution_count": null,
   "metadata": {},
   "outputs": [],
   "source": [
    "ftc.plot_profile('SF6g'),\n",
    "plt.scatter([C1[Tm==98], C2[Tm==98], C3[Tm==98]], [-9,-21,-33])\n",
    "# plt.scatter(C2[7], -21)\n",
    "# plt.scatter(C3[7], -33)"
   ]
  },
  {
   "cell_type": "code",
   "execution_count": null,
   "metadata": {},
   "outputs": [],
   "source": [
    "ftc.plot_depths('SF6g', depths=[9,21,33], time_to_plot=800)\n",
    "plt.scatter(Tm, C2, color='g')\n",
    "plt.scatter(Tm, C1, color='b')\n",
    "plt.scatter(Tm, C3, color='r')\n",
    "# plt.xlim([0,80])\n",
    "plt.ylim([0,8])"
   ]
  },
  {
   "cell_type": "code",
   "execution_count": null,
   "metadata": {},
   "outputs": [],
   "source": [
    "Fx"
   ]
  },
  {
   "cell_type": "code",
   "execution_count": null,
   "metadata": {},
   "outputs": [],
   "source": [
    "F = ftc.estimate_flux_at_top('SF6g') # gas flux\n",
    "\n",
    "plt.plot(ftc.time, F)\n",
    "# plt.plot(T_frz, [0] )\n",
    "# F2 = ftc.estimate_flux_at_top('SF6w') # dissolved gas flux\n",
    "# plt.plot(ftc.time, F2)\n",
    "\n",
    "plt.scatter((Tm[::2]+1), dCh*Vh/SA/dT)\n",
    "# plt.ylim([0,1])"
   ]
  },
  {
   "cell_type": "code",
   "execution_count": null,
   "metadata": {
    "scrolled": false
   },
   "outputs": [],
   "source": [
    "ftc.plot_contourplots(labels=False)"
   ]
  },
  {
   "cell_type": "code",
   "execution_count": null,
   "metadata": {
    "scrolled": false
   },
   "outputs": [],
   "source": [
    "ftc.plot_profiles()"
   ]
  },
  {
   "cell_type": "markdown",
   "metadata": {},
   "source": [
    "$${\\displaystyle H^{cc}=c_{\\text{a}}/c_{\\text{g}}}$$"
   ]
  },
  {
   "cell_type": "code",
   "execution_count": null,
   "metadata": {
    "scrolled": false
   },
   "outputs": [],
   "source": [
    "# 9, 21,33\n",
    "ftc.plot_depths('SF6g', depths=[9,21,33], time_to_plot=False)\n",
    "plt.scatter(Tm, C2, color='g')\n",
    "plt.scatter(Tm, C1, color='b')\n",
    "plt.scatter(Tm, C3, color='r')\n",
    "# plt.xlim([0,160])\n",
    "plt.ylim([0,8])"
   ]
  },
  {
   "cell_type": "code",
   "execution_count": null,
   "metadata": {},
   "outputs": [],
   "source": [
    "ftc.plot_depths('SF6g', depths=[0.0, 0.2,], time_to_plot=False)"
   ]
  },
  {
   "cell_type": "code",
   "execution_count": null,
   "metadata": {},
   "outputs": [],
   "source": [
    "plt.plot(ftc.time, Chs, label='measured')\n",
    "plt.scatter(Tm[1::2], Ch[1::2], label='t0')\n",
    "plt.scatter(Tm[::2], Ch[::2], label='t1')\n",
    "plt.ylabel('Concentration in Headspace, [umol/L]')\n",
    "plt.legend()"
   ]
  },
  {
   "cell_type": "code",
   "execution_count": null,
   "metadata": {},
   "outputs": [],
   "source": []
  },
  {
   "cell_type": "code",
   "execution_count": null,
   "metadata": {},
   "outputs": [],
   "source": [
    "plt.scatter(Tm[::2]+1, dCh*Vh/SA/dT)\n",
    "# plt.ylim([0, 0.4e-3])\n",
    "plt.ylabel(r'Flux, $[nmol/cm^2/h]$')\n",
    "plt.xlabel('Time, [h]')"
   ]
  },
  {
   "cell_type": "code",
   "execution_count": null,
   "metadata": {},
   "outputs": [],
   "source": []
  },
  {
   "cell_type": "code",
   "execution_count": null,
   "metadata": {
    "collapsed": true
   },
   "outputs": [],
   "source": []
  },
  {
   "cell_type": "code",
   "execution_count": null,
   "metadata": {
    "collapsed": true
   },
   "outputs": [],
   "source": []
  },
  {
   "cell_type": "code",
   "execution_count": null,
   "metadata": {
    "collapsed": true
   },
   "outputs": [],
   "source": []
  },
  {
   "cell_type": "markdown",
   "metadata": {
    "collapsed": true
   },
   "source": [
    "# "
   ]
  }
 ],
 "metadata": {
  "anaconda-cloud": {},
  "kernelspec": {
   "display_name": "Python [conda root]",
   "language": "python",
   "name": "conda-root-py"
  },
  "language_info": {
   "codemirror_mode": {
    "name": "ipython",
    "version": 3
   },
   "file_extension": ".py",
   "mimetype": "text/x-python",
   "name": "python",
   "nbconvert_exporter": "python",
   "pygments_lexer": "ipython3",
   "version": "3.5.2"
  }
 },
 "nbformat": 4,
 "nbformat_minor": 1
}
