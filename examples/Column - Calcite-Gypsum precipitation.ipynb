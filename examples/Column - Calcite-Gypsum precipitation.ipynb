{
 "cells": [
  {
   "cell_type": "code",
   "execution_count": 13,
   "metadata": {
    "collapsed": true
   },
   "outputs": [],
   "source": [
    "import matplotlib.pyplot as plt\n",
    "import sys\n",
    "sys.path.append('../src')\n",
    "from PorousMediaLab import PorousMediaLab\n",
    "import numpy as np\n",
    "%matplotlib inline"
   ]
  },
  {
   "cell_type": "code",
   "execution_count": 14,
   "metadata": {
    "collapsed": true
   },
   "outputs": [],
   "source": [
    "tend =10\n",
    "dt = 0.001\n",
    "dx = 0.1 \n",
    "L = 10\n",
    "x = np.linspace(0, L, L / dx + 1)\n",
    "t = np.linspace(0, tend, round(tend / dt) + 1)\n",
    "phi =  0.5 "
   ]
  },
  {
   "cell_type": "code",
   "execution_count": 15,
   "metadata": {
    "collapsed": true
   },
   "outputs": [],
   "source": [
    "ftc = PorousMediaLab(L, dx, tend, dt, phi)"
   ]
  },
  {
   "cell_type": "code",
   "execution_count": 16,
   "metadata": {
    "collapsed": true,
    "scrolled": false
   },
   "outputs": [],
   "source": [
    "C_init=0.0000001/phi/3\n",
    "ftc.add_species(is_solute=True, element='H2CO3', D=200, init_C=C_init, bc_top=0, bc_top_type='flux', bc_bot=0, bc_bot_type='flux')\n",
    "ftc.add_species(is_solute=True, element='HCO3', D=200, init_C=C_init, bc_top=0, bc_top_type='flux', bc_bot=0, bc_bot_type='flux')\n",
    "ftc.add_species(is_solute=True, element='CO3', D=200, init_C=C_init, bc_top=1e-3, bc_top_type='flux', bc_bot=0, bc_bot_type='flux')\n",
    "\n",
    "ftc.add_acid(species=['H2CO3', 'HCO3', 'CO3'], pKa=[3.6, 10.32])\n",
    "\n",
    "\n",
    "ftc.add_species(is_solute=True, element='H2SO4', D=200, init_C=C_init,  bc_top=0, bc_top_type='flux', bc_bot=0, bc_bot_type='flux')\n",
    "ftc.add_species(is_solute=True, element='HSO4',  D=200, init_C=C_init,  bc_top=0, bc_top_type='flux', bc_bot=0, bc_bot_type='flux')\n",
    "ftc.add_species(is_solute=True, element='SO4',  D=200, init_C=C_init,  bc_top=1e-2, bc_top_type='flux', bc_bot=0, bc_bot_type='flux')\n",
    "\n",
    "ftc.add_acid(species=['H2SO4', 'HSO4', 'SO4'], pKa=[-10, 1.99])\n",
    "\n",
    "ftc.add_species(is_solute=True, element='Ca', D=200, init_C=1e-9, bc_top=0., bc_top_type='flux', bc_bot=1e-2, bc_bot_type='flux')\n",
    "ftc.add_species(is_solute=False, element='CaCO3', D=5, init_C=0., bc_top=0.0, bc_top_type='flux', bc_bot=0.00, bc_bot_type='flux')\n",
    "ftc.add_species(is_solute=False, element='CaSO4', D=5, init_C=0., bc_top=0.0, bc_top_type='flux', bc_bot=0.00, bc_bot_type='flux')\n",
    "\n",
    "\n",
    "ftc.add_ion(element='Ca', charge=2)"
   ]
  },
  {
   "cell_type": "code",
   "execution_count": 17,
   "metadata": {
    "collapsed": true
   },
   "outputs": [],
   "source": [
    "ftc.constants['Ks_CaCO3'] = 3.3e-9\n",
    "ftc.constants['Ks_CaSO4'] = 10**-4.58\n",
    "ftc.constants['k_pre'] = 1e-2\n",
    "ftc.constants['k_dis'] = 1e-1\n",
    "ftc.constants['CF'] = (1-phi)/phi  ### conversion factor\n",
    "\n"
   ]
  },
  {
   "cell_type": "code",
   "execution_count": 18,
   "metadata": {
    "collapsed": true
   },
   "outputs": [],
   "source": [
    "ftc.rates['R_pre_CaCO3'] = 'k_pre * (Ca*CO3/Ks_CaCO3-1)'\n",
    "ftc.rates['R_pre_CaSO4'] = 'k_pre * (Ca*SO4/Ks_CaSO4-1)'\n",
    "ftc.rates['R_dis_CaCO3'] = 'k_dis * CaCO3 * (1 - Ca*CO3/Ks_CaCO3)'\n",
    "ftc.rates['R_dis_CaSO4'] = 'k_dis * CaSO4 * (1 - Ca*SO4/Ks_CaSO4)'"
   ]
  },
  {
   "cell_type": "code",
   "execution_count": null,
   "metadata": {
    "collapsed": true
   },
   "outputs": [],
   "source": [
    "ftc.dcdt['CaCO3'] = 'R_pre_CaCO3/CF - R_dis_CaCO3'\n",
    "ftc.dcdt['Ca'] = '-R_pre_CaCO3 + R_dis_CaCO3*CF - R_pre_CaSO4 + R_dis_CaSO4*CF'\n",
    "ftc.dcdt['CO3'] = '-R_pre_CaCO3 + R_dis_CaCO3*CF'\n",
    "ftc.dcdt['CaSO4'] = 'R_pre_CaSO4/CF - R_dis_CaSO4'\n",
    "ftc.dcdt['SO4'] = '-R_pre_CaSO4 + R_dis_CaSO4*CF'"
   ]
  },
  {
   "cell_type": "code",
   "execution_count": null,
   "metadata": {
    "collapsed": false,
    "scrolled": false
   },
   "outputs": [
    {
     "name": "stdout",
     "output_type": "stream",
     "text": [
      "Simulation started:\n",
      "\t 2017-09-13 21:11:39\n",
      "\n",
      "\n",
      "Estimated time of the code execution:\n",
      "\t 0h:06m:19s\n",
      "Will finish approx.:\n",
      "\t 2017-09-13 21:18:02\n"
     ]
    }
   ],
   "source": [
    "# %%timeit\n",
    "ftc.solve()"
   ]
  },
  {
   "cell_type": "code",
   "execution_count": null,
   "metadata": {
    "collapsed": false,
    "scrolled": false
   },
   "outputs": [],
   "source": [
    "ftc.plot_contourplots(labels=False)"
   ]
  },
  {
   "cell_type": "markdown",
   "metadata": {},
   "source": [
    "### Saturation indeces"
   ]
  },
  {
   "cell_type": "code",
   "execution_count": null,
   "metadata": {
    "collapsed": false
   },
   "outputs": [],
   "source": [
    "ftc.plot_saturation_index('Ca','CO3','Ks_CaCO3')"
   ]
  },
  {
   "cell_type": "code",
   "execution_count": null,
   "metadata": {
    "collapsed": false
   },
   "outputs": [],
   "source": [
    "ftc.plot_saturation_index('Ca','SO4','Ks_CaSO4')"
   ]
  },
  {
   "cell_type": "code",
   "execution_count": null,
   "metadata": {
    "collapsed": false,
    "scrolled": false
   },
   "outputs": [],
   "source": [
    "ftc.plot_contourplots_of_rates()"
   ]
  },
  {
   "cell_type": "code",
   "execution_count": null,
   "metadata": {
    "collapsed": true
   },
   "outputs": [],
   "source": []
  }
 ],
 "metadata": {
  "anaconda-cloud": {},
  "kernelspec": {
   "display_name": "Python [conda root]",
   "language": "python",
   "name": "conda-root-py"
  },
  "language_info": {
   "codemirror_mode": {
    "name": "ipython",
    "version": 3
   },
   "file_extension": ".py",
   "mimetype": "text/x-python",
   "name": "python",
   "nbconvert_exporter": "python",
   "pygments_lexer": "ipython3",
   "version": "3.5.3"
  }
 },
 "nbformat": 4,
 "nbformat_minor": 1
}
