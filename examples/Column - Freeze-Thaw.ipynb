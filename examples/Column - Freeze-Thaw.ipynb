{
  "cells": [
    {
      "cell_type": "markdown",
      "source": [
        "#### Import libraries:"
      ],
      "metadata": {}
    },
    {
      "cell_type": "code",
      "source": [
        "import sys\n",
        "sys.path.append('../')\n",
        "\n",
        "import matplotlib.pyplot as plt\n",
        "import numpy as np\n",
        "%matplotlib inline\n",
        "\nfrom porousmedialab.column import Column"
      ],
      "outputs": [],
      "execution_count": 1,
      "metadata": {
        "collapsed": true
      }
    },
    {
      "cell_type": "markdown",
      "source": [
        "#### Setting up the properties of time-space and create the domain:"
      ],
      "metadata": {}
    },
    {
      "cell_type": "code",
      "source": [
        "t = 27 / 365\n",
        "dx = 0.2\n",
        "L = 40\n",
        "phi = 0.8\n",
        "dt = 1e-5\n",
        "ftc = Column(L, dx, t, dt)"
      ],
      "outputs": [],
      "execution_count": 2,
      "metadata": {
        "collapsed": true
      }
    },
    {
      "cell_type": "markdown",
      "source": [
        "#### To make things interesting lets create not simple inital conditions for iron:"
      ],
      "metadata": {}
    },
    {
      "cell_type": "code",
      "source": [
        "x = np.linspace(0, L, L / dx + 1)\n",
        "Fe3_init = np.zeros(x.size)\n",
        "Fe3_init[x > 5] = 75\n",
        "Fe3_init[x > 15] = 0\n",
        "Fe3_init[x > 25] = 75\n",
        "Fe3_init[x > 35] = 0"
      ],
      "outputs": [
        {
          "output_type": "stream",
          "name": "stderr",
          "text": [
            "/Users/imarkelo/anaconda3/lib/python3.6/site-packages/ipykernel_launcher.py:1: DeprecationWarning: object of type <class 'float'> cannot be safely interpreted as an integer.\n",
            "  \"\"\"Entry point for launching an IPython kernel.\n"
          ]
        }
      ],
      "execution_count": 3,
      "metadata": {}
    },
    {
      "cell_type": "markdown",
      "source": [
        "#### Adding species with names, diffusion coefficients, initial concentrations and boundary top and bottom conditions:"
      ],
      "metadata": {}
    },
    {
      "cell_type": "code",
      "source": [
        "ftc.add_species(theta=phi, name='O2', D=368, init_conc=0, bc_top_value=0.231, bc_top_type='dirichlet', bc_bot_value=0, bc_bot_type='flux')\n",
        "ftc.add_species(theta=phi, name='TIC', D=320, init_conc=0, bc_top_value=0, bc_top_type='flux', bc_bot_value=0, bc_bot_type='flux')\n",
        "ftc.add_species(theta=phi, name='Fe2', D=127, init_conc=0, bc_top_value=0, bc_top_type='flux', bc_bot_value=0, bc_bot_type='flux')\n",
        "\n",
        "ftc.add_species(theta=1-phi, name='OM', D=1e-18, init_conc=15, bc_top_value=0, bc_top_type='flux', bc_bot_value=0, bc_bot_type='flux')\n",
        "ftc.add_species(theta=1-phi, name='FeOH3', D=1e-18, init_conc=Fe3_init, bc_top_value=0, bc_top_type='flux', bc_bot_value=0, bc_bot_type='flux')\n",
        "\n",
        "ftc.add_species(theta=phi, name='CO2g', D=320, init_conc=0, bc_top_value=0, bc_top_type='flux', bc_bot_value=0, bc_bot_type='flux')\n",
        "ftc.henry_equilibrium('TIC', 'CO2g', 0.2*0.83)"
      ],
      "outputs": [],
      "execution_count": 4,
      "metadata": {}
    },
    {
      "cell_type": "markdown",
      "source": [
        "#### Specify the constants used in the rates:"
      ],
      "metadata": {}
    },
    {
      "cell_type": "code",
      "source": [
        "ftc.constants['k_OM'] = 1\n",
        "ftc.constants['Km_O2'] = 20e-3\n",
        "ftc.constants['Km_FeOH3'] = 10\n",
        "ftc.constants['k8'] = 1.4e+5\n",
        "ftc.constants['Q10'] = 4  ### added\n",
        "ftc.constants['CF'] = (1-phi)/phi  ### conversion factor"
      ],
      "outputs": [],
      "execution_count": 5,
      "metadata": {
        "collapsed": true
      }
    },
    {
      "cell_type": "markdown",
      "source": [
        "### Simulate Temperature with thermal diffusivity coefficient 281000 and init and boundary temperature 5C:"
      ],
      "metadata": {}
    },
    {
      "cell_type": "code",
      "source": [
        "ftc.add_species(theta=0.99, name='Temperature', D=281000, init_conc=5, bc_top_value=5., bc_top_type='constant', bc_bot_value=0, bc_bot_type='flux')"
      ],
      "outputs": [],
      "execution_count": 6,
      "metadata": {}
    },
    {
      "cell_type": "markdown",
      "source": [
        "#### Add Q10 factor:"
      ],
      "metadata": {}
    },
    {
      "cell_type": "code",
      "source": [
        "ftc.rates['R1'] = 'Q10**((Temperature-5)/10) * k_OM * OM * O2 / (Km_O2 + O2)'\n",
        "ftc.rates['R2'] = 'Q10**((Temperature-5)/10) * k_OM * OM * FeOH3 / (Km_FeOH3 + FeOH3) * Km_O2 / (Km_O2 + O2)'\n",
        "ftc.rates['R8'] = 'k8 * O2 * Fe2'"
      ],
      "outputs": [],
      "execution_count": 7,
      "metadata": {
        "collapsed": true
      }
    },
    {
      "cell_type": "markdown",
      "source": [
        "#### ODEs for specific species:"
      ],
      "metadata": {}
    },
    {
      "cell_type": "code",
      "source": [
        "ftc.dcdt['OM'] = '-R1-R2'\n",
        "ftc.dcdt['O2'] = '-R1-R8'\n",
        "ftc.dcdt['FeOH3'] = '-4*R2+R8/CF'\n",
        "ftc.dcdt['Fe2'] = '-R8+4*R2*CF'\n",
        "ftc.dcdt['TIC'] = 'R1+R2*CF'"
      ],
      "outputs": [],
      "execution_count": 8,
      "metadata": {
        "collapsed": true
      }
    },
    {
      "cell_type": "markdown",
      "source": [
        "#### Because we are changing the boundary conditions for temperature and Oxygen (when T < 0 => no oxygen at the top), then we need to have a time loop:"
      ],
      "metadata": {}
    },
    {
      "cell_type": "code",
      "source": [
        "# %pdb"
      ],
      "outputs": [],
      "execution_count": 9,
      "metadata": {
        "collapsed": true
      }
    },
    {
      "cell_type": "code",
      "source": [
        "for i in range(1, len(ftc.time)):\n",
        "    day_of_bi_week = (ftc.time[i]*365) % 14\n",
        "\n",
        "    if day_of_bi_week < 7:\n",
        "        ftc.Temperature.bc_top_value = 5  + 5 * np.sin(np.pi * 2 * ftc.time[i] * 365)\n",
        "    else:\n",
        "        ftc.Temperature.bc_top_value = -10  + 5 * np.sin(np.pi * 2 * ftc.time[i] * 365)\n",
        "        \n",
        "    # when T < 0 => 0 flux of oxygen and CO2 at the top:\n",
        "    if ftc.Temperature.bc_top_value < 0:\n",
        "        ftc.change_boundary_conditions('O2', i, bc_top_value=0, bc_top_type='flux', bc_bot_value=0, bc_bot_type='flux')\n",
        "        ftc.change_boundary_conditions('CO2g', i, bc_top_value=0, bc_top_type='flux', bc_bot_value=0, bc_bot_type='flux')\n",
        "    else:\n",
        "        ftc.change_boundary_conditions('O2', i, bc_top_value=0.231, bc_top_type='constant', bc_bot_value=0, bc_bot_type='flux')\n",
        "        ftc.change_boundary_conditions('CO2g', i, bc_top_value=0, bc_top_type='constant', bc_bot_value=0, bc_bot_type='flux')\n",
        "        \n",
        "    # Integrate one timestep:\n",
        "    ftc.integrate_one_timestep(i)"
      ],
      "outputs": [
        {
          "output_type": "stream",
          "name": "stdout",
          "text": [
            "Boundary conditions changed for O2 at time 1.000035186423226e-05\n",
            "Boundary conditions changed for CO2g at time 1.000035186423226e-05\n",
            "Boundary conditions changed for O2 at time 0.019180674875597475\n",
            "Boundary conditions changed for CO2g at time 0.019180674875597475\n"
          ]
        }
      ],
      "execution_count": 10,
      "metadata": {}
    },
    {
      "cell_type": "markdown",
      "source": [
        "### What we did with temperature"
      ],
      "metadata": {}
    },
    {
      "cell_type": "code",
      "source": [
        "ftc.plot_depths(\"Temperature\",[0,1,3,7,10,40])"
      ],
      "outputs": [],
      "execution_count": null,
      "metadata": {}
    },
    {
      "cell_type": "markdown",
      "source": [
        "### Concentrations of different species during the whole period of simulation:"
      ],
      "metadata": {}
    },
    {
      "cell_type": "code",
      "source": [
        "ftc.plot_contourplots()"
      ],
      "outputs": [],
      "execution_count": null,
      "metadata": {
        "scrolled": false
      }
    },
    {
      "cell_type": "markdown",
      "source": [
        "### The rates of consumption and production of species:"
      ],
      "metadata": {}
    },
    {
      "cell_type": "code",
      "source": [
        "ftc.reconstruct_rates()\n",
        "ftc.plot_contourplots_of_rates()"
      ],
      "outputs": [],
      "execution_count": null,
      "metadata": {
        "scrolled": false
      }
    },
    {
      "cell_type": "code",
      "source": [
        "ftc.plot_contourplots_of_deltas()"
      ],
      "outputs": [],
      "execution_count": null,
      "metadata": {
        "collapsed": false,
        "outputHidden": false,
        "inputHidden": false
      }
    },
    {
      "cell_type": "markdown",
      "source": [
        "### Profiles at the end of the simulation"
      ],
      "metadata": {}
    },
    {
      "cell_type": "code",
      "source": [
        "Fx = ftc.estimate_flux_at_top('CO2g')\n",
        "ftc.custom_plot(ftc.time*365, 1e+3*Fx*1e+4/365/24/60/60,x_lbl='Days, [day]' , y_lbl='$F_{CO_2}$, $[\\mu mol$ $m^{-2}$ $s^{-1}]$')"
      ],
      "outputs": [],
      "execution_count": null,
      "metadata": {}
    },
    {
      "cell_type": "code",
      "source": [
        "Fxco2 = 1e+3*Fx*1e+4/365/24/60/60"
      ],
      "outputs": [],
      "execution_count": null,
      "metadata": {
        "collapsed": false,
        "outputHidden": false,
        "inputHidden": false
      }
    },
    {
      "cell_type": "code",
      "source": [
        "import seaborn as sns\n",
        "\n",
        "fig, ax1 = plt.subplots(figsize=(5,3), dpi=200)\n",
        "ax2 = ax1.twinx()\n",
        "ax1.plot(ftc.time*365, Fxco2, label='$F_{CO_2}$', lw=3)\n",
        "ax2.plot(ftc.time*365, ftc.Temperature.concentration[0, :], 'k', lw=1, label='T at 0 cm')\n",
        "ax2.plot(ftc.time*365, ftc.Temperature.concentration[100, :], ls='-', c=sns.color_palette(\"deep\", 10)[3], lw=2, label='T at 20 cm')\n",
        "# ax1.scatter(NO3_t, NO3, c=sns.color_palette(\"deep\", 10)[0], lw=1)\n",
        "ax2.grid(False)\n",
        "ax1.grid(lw=0.2)\n",
        "ax2.set_ylim(-20, 20)\n",
        "ax1.set_xlim(0, 27)\n",
        "ax1.set_xlabel('Time, [days]')\n",
        "ax1.set_ylabel('$CO_2(g)$ flux, $[\\mu mol$ $m^{-2}$ $s^{-1}]$')\n",
        "ax2.set_ylabel('Temperature, [C]')\n",
        "ax1.set_ylim(0, 20)\n",
        "ax1.legend(frameon=1, loc=2)\n",
        "ax2.legend(frameon=1, loc=1)"
      ],
      "outputs": [],
      "execution_count": null,
      "metadata": {
        "collapsed": true
      }
    },
    {
      "cell_type": "code",
      "source": [
        "import math\n",
        "from matplotlib.colors import ListedColormap\n",
        "lab = ftc\n",
        "element = 'Fe2'\n",
        "labels=False\n",
        "days=False\n",
        "last_year=False\n",
        "plt.figure(figsize=(5,3), dpi=200)\n",
        "# plt.title('$Fe(II)$ concentration')\n",
        "resoluion = 100\n",
        "n = math.ceil(lab.time.size / resoluion)\n",
        "if last_year:\n",
        "    k = n - int(1 / lab.dt)\n",
        "else:\n",
        "    k = 1\n",
        "if days:\n",
        "    X, Y = np.meshgrid(lab.time[k::n] * 365, -lab.x)\n",
        "    plt.xlabel('Time')\n",
        "else:\n",
        "    X, Y = np.meshgrid(lab.time[k::n] * 365, -lab.x)\n",
        "    plt.xlabel('Time, [days]')\n",
        "z = lab.species[element]['concentration'][:, k - 1:-1:n]\n",
        "CS = plt.contourf(X, Y, z, 51, cmap=ListedColormap(\n",
        "    sns.color_palette(\"Blues\", 51)), origin='lower')\n",
        "if labels:\n",
        "    plt.clabel(CS, inline=1, fontsize=10, colors='w')\n",
        "cbar = plt.colorbar(CS)\n",
        "plt.ylabel('Depth, [cm]')\n",
        "ax = plt.gca()\n",
        "ax.ticklabel_format(useOffset=False)\n",
        "cbar.ax.set_ylabel('%s, [mM]' % element)"
      ],
      "outputs": [],
      "execution_count": null,
      "metadata": {
        "collapsed": false,
        "outputHidden": false,
        "inputHidden": false
      }
    },
    {
      "cell_type": "code",
      "source": [
        "plt.figure(figsize=(5,3), dpi=200)\n",
        "r='R2'\n",
        "n = math.ceil(lab.time.size / resoluion)\n",
        "if last_year:\n",
        "    k = n - int(1 / lab.dt)\n",
        "else:\n",
        "    k = 1\n",
        "z = lab.estimated_rates[r][:, k - 1:-1:n]\n",
        "# lim = np.max(np.abs(z))\n",
        "# lim = np.linspace(-lim - 0.1, +lim + 0.1, 51)\n",
        "X, Y = np.meshgrid(lab.time[k::n], -lab.x)\n",
        "plt.xlabel('Time, [days]')\n",
        "CS = plt.contourf(X*365, Y, z/365, 20, cmap=ListedColormap(\n",
        "    sns.color_palette(\"Blues\", 51)))\n",
        "if labels:\n",
        "    plt.clabel(CS, inline=1, fontsize=10, colors='w')\n",
        "cbar = plt.colorbar(CS)\n",
        "plt.ylabel('Depth, [cm]')\n",
        "ax = plt.gca()\n",
        "ax.ticklabel_format(useOffset=False)\n",
        "cbar.ax.set_ylabel(r'Rate R2, [$mM$ $d^{-1}$]')"
      ],
      "outputs": [],
      "execution_count": null,
      "metadata": {
        "collapsed": false,
        "outputHidden": false,
        "inputHidden": false
      }
    },
    {
      "cell_type": "code",
      "source": [
        "plt.figure(figsize=(5,3),dpi=200)\n",
        "element='FeOH3'\n",
        "resoluion = 100\n",
        "n = math.ceil(lab.time.size / resoluion)\n",
        "if last_year:\n",
        "    k = n - int(1 / lab.dt)\n",
        "else:\n",
        "    k = 1\n",
        "z = lab.species[element]['rates'][:, k - 1:-1:n]/365\n",
        "lim = np.max(np.abs(z))\n",
        "lim = np.linspace(-lim, +lim, 51)\n",
        "X, Y = np.meshgrid(lab.time[k:-1:n], -lab.x)\n",
        "plt.xlabel('Time, [days]')\n",
        "CS = plt.contourf(X*365, Y, z, 20, cmap=ListedColormap(sns.color_palette(\n",
        "    \"RdBu_r\", 101)), origin='lower', levels=lim, extend='both')\n",
        "if labels:\n",
        "    plt.clabel(CS, inline=1, fontsize=10, colors='w')\n",
        "cbar = plt.colorbar(CS)\n",
        "plt.ylabel('Depth, [cm]')\n",
        "ax = plt.gca()\n",
        "ax.ticklabel_format(useOffset=False)\n",
        "cbar.ax.set_ylabel('$\\Delta$ $Fe(OH)_3$ [$mM$ $d^{-1}$]')"
      ],
      "outputs": [],
      "execution_count": null,
      "metadata": {
        "collapsed": false,
        "outputHidden": false,
        "inputHidden": false
      }
    },
    {
      "cell_type": "code",
      "source": [],
      "outputs": [],
      "execution_count": null,
      "metadata": {
        "collapsed": false,
        "outputHidden": false,
        "inputHidden": false
      }
    }
  ],
  "metadata": {
    "anaconda-cloud": {},
    "kernelspec": {
      "name": "python3",
      "language": "python",
      "display_name": "Python 3"
    },
    "language_info": {
      "name": "python",
      "version": "3.6.3",
      "mimetype": "text/x-python",
      "codemirror_mode": {
        "name": "ipython",
        "version": 3
      },
      "pygments_lexer": "ipython3",
      "nbconvert_exporter": "python",
      "file_extension": ".py"
    },
    "kernel_info": {
      "name": "python3"
    },
    "nteract": {
      "version": "0.11.9"
    }
  },
  "nbformat": 4,
  "nbformat_minor": 1
}