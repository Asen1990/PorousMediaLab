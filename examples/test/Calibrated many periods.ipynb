{
 "cells": [
  {
   "cell_type": "code",
   "execution_count": null,
   "metadata": {
    "collapsed": true
   },
   "outputs": [],
   "source": [
    "import matplotlib.pyplot as plt\n",
    "import sys\n",
    "import math\n",
    "\n",
    "sys.path.append('../../')\n",
    "# from column import Column\n",
    "\n",
    "from porousmedialab.column import Column\n",
    "\n",
    "import numpy as np\n",
    "\n",
    "%matplotlib inline\n",
    "# %matplotlib notebook\n",
    "\n",
    "from thawmeasurements import  Vh2, Vh3, C2h, C3h, C3D33, C2D33, C3D21, C2D21, C3D9, C2D9, Tm_nz, C1h_nz, F3Tm, F3T_frz, T3Tm, T2T_thw, F2Tm, F2T_frz, T1T_thw, T2Tm, F1T_frz, T1Tm, C1h, T1C1h, F1C1h, T2C1h, F2C1h, T3C1h, F3C1h, C1D9, T1C1D9, T2C1D9, T3C1D9, C1D21, T1C1D21, F1C1D21, T2C1D21, F2C1D21, T3C1D21, F3C1D21, C1D33, T1C1D33, F1C1D33, T2C1D33, F2C1D33, T3C1D33, F3C1D33, Tm, T1Tm, F1Tm, T2Tm, F2Tm, T3Tm, F3Tm, zm, D_SF6w, D_SF6g, Kh, phi_m, z_phi, Vh1, SA, D_column, Vi, Ci, T1Ci, F1Ci, T2Ci, F2Ci, T3Ci, F3Ci, Ti, T1Ti, F1Ti, T2Ti, F2Ti, T3Ti, F3Ti, SF6_Hcc, T_frz, T_thw\n",
    "\n",
    "import seaborn as sns\n",
    "                                                                                                                                                                                                                    \n",
    "sns.set_style(\"whitegrid\")\n",
    "plt.rcParams.update({'font.size': 32})\n",
    "sns.set_context(\"poster\", rc={\"font.size\":34,\"axes.titlesize\":34,\"axes.labelsize\":34, \"lines.linewidth\": 4, 'lines.markersize':10})  \n",
    "plt.rcParams['figure.figsize'] = 8, 6\n"
   ]
  },
  {
   "cell_type": "code",
   "execution_count": null,
   "metadata": {
    "collapsed": true
   },
   "outputs": [],
   "source": [
    "# from porousmedialab.calibrator import find_indexes_of_intersections\n",
    "# from porousmedialab.metrics import rmse"
   ]
  },
  {
   "cell_type": "code",
   "execution_count": null,
   "metadata": {
    "collapsed": true
   },
   "outputs": [],
   "source": [
    "Tm = np.concatenate([0 + T1Tm, F1T_frz+F1Tm, T1T_thw+T2Tm, F2T_frz+F2Tm, T2T_thw+T3Tm, F3T_frz+F3Tm])\n",
    "Ti = np.array(np.array([16, 177, 350, 514, 681, 851]))\n",
    "t_shift = Ti[0]\n",
    "Tm = Tm-t_shift\n",
    "Ti_1 = Ti-t_shift"
   ]
  },
  {
   "cell_type": "code",
   "execution_count": null,
   "metadata": {
    "collapsed": true
   },
   "outputs": [],
   "source": [
    "w, k_w_in, k_w_out, k_g_in, k_g_out =[-0.0146734865079, 0.0384866051036, 0.023407578148, 0.14239721947, 54.5771637419] #100h x100"
   ]
  },
  {
   "cell_type": "code",
   "execution_count": null,
   "metadata": {},
   "outputs": [],
   "source": [
    "periods = np.concatenate([T_frz, T_thw])\n",
    "periods.sort()\n",
    "periods = periods - t_shift\n",
    "periods"
   ]
  },
  {
   "cell_type": "code",
   "execution_count": null,
   "metadata": {},
   "outputs": [],
   "source": [
    "tend = periods[0]\n",
    "# tend = 457\n",
    "dt = 0.01\n",
    "dx = 0.2 ## cm\n",
    "L = 40 ## cm\n",
    "x = np.linspace(0, L, L / dx + 1)\n",
    "t = np.linspace(0, tend, round(tend / dt) + 1)\n",
    "#phi = 0.8\n",
    "Chs = np.zeros(t.shape) #\n",
    "Fx = np.zeros(t.shape)\n",
    "phi = ( 0.99 - 0.91 ) * np.exp( -x / 10 ) + 0.91"
   ]
  },
  {
   "cell_type": "code",
   "execution_count": null,
   "metadata": {
    "collapsed": true
   },
   "outputs": [],
   "source": [
    "dT = Tm_nz[1::2] - Tm_nz[::2]\n",
    "\n",
    "dC1h = (C1h_nz[1::2] - C1h_nz[::2])\n",
    "\n",
    "\n",
    "Mi = T1Ci*Vi # mass injected\n",
    "\n",
    "#h_inj = Vi/SA/phi\n",
    "h_inj = Vi/SA/0.93"
   ]
  },
  {
   "cell_type": "code",
   "execution_count": null,
   "metadata": {
    "collapsed": true
   },
   "outputs": [],
   "source": [
    "ftc1 = Column(L, dx, tend, dt)"
   ]
  },
  {
   "cell_type": "code",
   "execution_count": null,
   "metadata": {
    "collapsed": true
   },
   "outputs": [],
   "source": [
    "#Pores from the FTR experiment#\n",
    "\n",
    "phi_w = phi*(0.875/0.97)\n",
    "phi_g = 1 - phi\n",
    "phi_p = phi*((0.97-0.875)/0.97) \n",
    "\n",
    "# conversion factor from water to gas\n",
    "F_wg = phi_w/phi_g\n",
    "# conversion factor from water to pore space\n",
    "F_wp = phi_w/phi_p\n",
    "\n"
   ]
  },
  {
   "cell_type": "code",
   "execution_count": null,
   "metadata": {
    "collapsed": true
   },
   "outputs": [],
   "source": [
    "ftc1.add_species(theta=((phi_g**(10/3))/(phi**2)), element='SF6g', D= D_SF6g, init_C=0, bc_top=0, bc_top_type='constant', bc_bot=0, bc_bot_type='constant', w = -0.00)  #-0.055\n",
    "ftc1.add_species(theta=((phi_w**(10/3))/(phi**2)), element='SF6w', D= D_SF6w, init_C=0, bc_top=0, bc_top_type='constant', bc_bot=0, bc_bot_type='constant', w = w)\n",
    "\n",
    "# SF6mp stands for SF6 gas in micro pores, it is immobile and only collects SF6;\n",
    "ftc1.add_species(theta=phi_p, element='SF6mp', D=1e-18, init_C=0, bc_top=0, bc_top_type='flux', bc_bot=0, bc_bot_type='flux')\n",
    "\n",
    "\n",
    "# # Constants\n",
    "ftc1.constants['k_w_in'] =  k_w_in #from FTR w\n",
    "ftc1.constants['k_w_out'] = k_w_out\n",
    "#0.4\n",
    "\n",
    "ftc1.constants['k_g_in'] = k_g_in\n",
    "ftc1.constants['k_g_out'] = k_g_out\n",
    "\n",
    "ftc1.constants['phi_w'] = phi_w\n",
    "ftc1.constants['phi_g'] = phi_g\n",
    "ftc1.constants['phi_p'] = phi_p\n",
    "\n",
    "\n",
    "# # Rates of diffusion into pores and out\n",
    "ftc1.rates['R_w_in'] = 'k_w_in * SF6w'\n",
    "ftc1.rates['R_w_out'] = 'k_w_out * SF6mp'\n",
    "# ftc1.rates['R_w_in'] = '0'\n",
    "# ftc1.rates['R_w_out'] = '0'\n",
    "\n",
    "ftc1.rates['R_g_in'] = 'k_g_in * SF6w'\n",
    "ftc1.rates['R_g_out'] = 'k_g_out * SF6g'\n",
    "\n",
    "# # dcdt\n",
    "ftc1.dcdt['SF6w'] = '-R_g_in + R_g_out * phi_g - R_w_in + R_w_out * phi_p'\n",
    "ftc1.dcdt['SF6g'] = 'R_g_in / phi_g - R_g_out'\n",
    "ftc1.dcdt['SF6mp'] = 'R_w_in / phi_p - R_w_out'\n",
    "\n",
    "\n"
   ]
  },
  {
   "cell_type": "code",
   "execution_count": null,
   "metadata": {
    "collapsed": true
   },
   "outputs": [],
   "source": [
    "Fx = np.zeros(t.size)"
   ]
  },
  {
   "cell_type": "code",
   "execution_count": null,
   "metadata": {
    "collapsed": true
   },
   "outputs": [],
   "source": [
    "# %pdb"
   ]
  },
  {
   "cell_type": "code",
   "execution_count": null,
   "metadata": {
    "collapsed": true
   },
   "outputs": [],
   "source": [
    "for i in range(0, len(ftc1.time)):\n",
    "    if (ftc1.time[i] > periods[0] and ftc1.time[i] < periods[1]) or (\n",
    "            ftc1.time[i] > periods[2] and ftc1.time[i] < periods[3]\n",
    "    ) or (ftc1.time[i] > periods[4] and ftc1.time[i] < periods[5]):\n",
    "        ftc1.change_boundary_conditions('SF6g', i, bc_top=0, bc_top_type='flux')\n",
    "        ftc1.change_boundary_conditions('SF6w', i, bc_top=0, bc_top_type='flux')\n",
    "        Fx[i] = 0\n",
    "    else:\n",
    "        ftc1.change_boundary_conditions('SF6g', i, bc_top=0, bc_top_type='constant')\n",
    "        ftc1.change_boundary_conditions('SF6w', i, bc_top=0, bc_top_type='constant')\n",
    "        F1 = ftc1.estimate_flux_at_top('SF6g', i)\n",
    "        F2 = ftc1.estimate_flux_at_top('SF6w', i)\n",
    "        F3 = ftc1.estimate_flux_at_top('SF6mp', i)\n",
    "        Fx[i] = F1[i]+F2[i]+F3[i]\n",
    "    if any([ftc1.time[i] == T_inj for T_inj in Ti_1]):\n",
    "        SF6_add = np.zeros(x.size)\n",
    "        SF6_add[x > 0] = 0\n",
    "        SF6_add[x > 18 - (h_inj / 2)] = Ci[Ti_1 == ftc1.time[i]]\n",
    "        SF6_add[x > 18 + (h_inj / 2)] = 0\n",
    "        new_profile = ftc1.profiles['SF6w'] + SF6_add    #\n",
    "        ftc1.change_concentration_profile('SF6w', i, new_profile)\n",
    "\n",
    "    ftc1.integrate_one_timestep(i)"
   ]
  },
  {
   "cell_type": "code",
   "execution_count": null,
   "metadata": {},
   "outputs": [],
   "source": [
    "ftc1.plot_contourplots()"
   ]
  },
  {
   "cell_type": "code",
   "execution_count": null,
   "metadata": {},
   "outputs": [],
   "source": [
    "zm = 9\n",
    "measured = (ftc1.SF6w.concentration[ftc1.x == zm, :][0] * phi_w[ftc1.x == zm] + ftc1.SF6g.concentration[ftc1.x == zm, :][0] * phi_g[ftc1.x == zm] ) / (phi_w[ftc1.x == zm] + phi_g[ftc1.x == zm])\n",
    "# plt.scatter(Tm, C1D9, label='9 cm (C1)')\n",
    "# plt.scatter(Tm, C2D9, label='9 cm (C2)')\n",
    "# plt.scatter(Tm, C3D9, label='9 cm (C3)')\n",
    "plt.scatter(Tm, (C1D9+C2D9+C3D9)/3, label='9 cm')\n",
    "plt.plot(ftc1.time, measured, 'k-')\n",
    "plt.ylabel(r'$SF_6$, $[nM]$')\n",
    "plt.xlabel('Time, $[h]$')\n",
    "plt.xlim(0,)\n",
    "plt.ylim(0,0.005)\n",
    "plt.legend(frameon=1, loc=2)\n"
   ]
  },
  {
   "cell_type": "code",
   "execution_count": null,
   "metadata": {},
   "outputs": [],
   "source": [
    "zm = 21\n",
    "# plt.scatter(Tm, C1D21, label ='21 cm (C1)')\n",
    "# plt.scatter(Tm, C2D21, label ='21 cm (C2)')\n",
    "# plt.scatter(Tm, C3D21, label ='21 cm (C3)')\n",
    "plt.scatter(Tm, (C1D21+C2D21+C3D21)/3, label='21 cm')\n",
    "measured = (ftc1.SF6w.concentration[ftc1.x == zm, :][0] * phi_w[ftc1.x == zm] + ftc1.SF6g.concentration[ftc1.x == zm, :][0] * phi_g[ftc1.x == zm] ) / (phi_w[ftc1.x == zm] + phi_g[ftc1.x == zm])\n",
    "plt.plot(ftc1.time, measured, 'k-')\n",
    "plt.ylabel(r'$SF_6$, $[nM]$')\n",
    "plt.xlabel('Time, $[h]$')\n",
    "plt.legend(frameon=1)\n",
    "# plt.xlim(0,)\n",
    "plt.ylim(0,)"
   ]
  },
  {
   "cell_type": "code",
   "execution_count": null,
   "metadata": {},
   "outputs": [],
   "source": [
    "zm = 33\n",
    "measured = (ftc1.SF6w.concentration[ftc1.x == zm, :][0] * phi_w[ftc1.x == zm] + ftc1.SF6g.concentration[ftc1.x == zm, :][0] * phi_g[ftc1.x == zm] ) / (phi_w[ftc1.x == zm] + phi_g[ftc1.x == zm])\n",
    "# plt.scatter(Tm, C1D33, label='33 cm (C1)')\n",
    "# plt.scatter(Tm, C2D33, label='33 cm (C2)')\n",
    "# plt.scatter(Tm, C3D33, label='33 cm (C3)')\n",
    "plt.scatter(Tm, (C1D33+C2D33+C3D33)/3, label='33 cm')\n",
    "plt.plot(ftc1.time, measured, 'k-')\n",
    "plt.ylabel(r'$SF_6$, $[nM]$')\n",
    "plt.xlabel('Time, $[h]$')\n",
    "plt.legend(frameon=1, loc=2)\n",
    "plt.xlim(0,800)\n",
    "plt.ylim(0, 0.001)"
   ]
  },
  {
   "cell_type": "code",
   "execution_count": null,
   "metadata": {},
   "outputs": [],
   "source": [
    "F1 = ftc1.estimate_flux_at_top('SF6g')\n",
    "F2 = ftc1.estimate_flux_at_top('SF6w')\n",
    "F3 = ftc1.estimate_flux_at_top('SF6mp')\n",
    "# # gas flux\n",
    "\n",
    "# plt.plot(ftc1.time, F1, 'g')\n",
    "# plt.plot(ftc1.time, F2, 'b')\n",
    "plt.plot(ftc1.time, F1+F2+F3, 'k')\n",
    "# plt.plot(T_frz, [0] )\n",
    "# F2 = ftc.estimate_flux_at_top('SF6w') # dissolved gas flux\n",
    "# plt.plot(ftc.time, F2)\n",
    "\n",
    "\n",
    "dC1h = (C1h[1::2] - C1h[::2])\n",
    "# dC2h = (C2h[1::2] - C2h[::2])\n",
    "# dC3h = (C3h[1::2] - C3h[::2])\n",
    "\n",
    "plt.scatter(Tm[::2], dC1h*Vh1/SA/2)\n",
    "# plt.scatter(Tm_1, dC2h*Vh2/SA/2)\n",
    "# plt.scatter(Tm_1, dC3h*Vh3/SA/2)\n",
    "for xc in periods:\n",
    "    plt.axvline(x=xc, color='k', linewidth=1.8, linestyle='-.')\n",
    "plt.ylim(0,0.0005)\n",
    "plt.xlim(0,800)\n",
    "# plt.scatter((Tm[::2]+1), dC1h*Vh1/SA/dT)\n"
   ]
  },
  {
   "cell_type": "code",
   "execution_count": null,
   "metadata": {
    "collapsed": true
   },
   "outputs": [],
   "source": [
    "Ti_2 = Ti - periods[0]"
   ]
  },
  {
   "cell_type": "code",
   "execution_count": null,
   "metadata": {},
   "outputs": [],
   "source": [
    "periods"
   ]
  },
  {
   "cell_type": "code",
   "execution_count": null,
   "metadata": {},
   "outputs": [],
   "source": [
    "tend = periods[2] - periods[0]\n",
    "dt = 0.01\n",
    "dx = 0.2 ## cm\n",
    "L = 40 ## cm\n",
    "x = np.linspace(0, L, L / dx + 1)\n",
    "t = np.linspace(0, tend, round(tend / dt) + 1)\n",
    "#phi = 0.8\n",
    "Chs = np.zeros(t.shape) #\n",
    "Fx = np.zeros(t.shape)\n",
    "phi = ( 0.99 - 0.91 ) * np.exp( -x / 10 ) + 0.91"
   ]
  },
  {
   "cell_type": "code",
   "execution_count": null,
   "metadata": {
    "collapsed": true
   },
   "outputs": [],
   "source": [
    "ftc2 = Column(L, dx, tend, dt)"
   ]
  },
  {
   "cell_type": "code",
   "execution_count": null,
   "metadata": {
    "collapsed": true
   },
   "outputs": [],
   "source": [
    "ftc2.add_species(theta=((phi_g**(10/3))/(phi**2)), element='SF6g', D= D_SF6g, init_C=ftc1.profiles.SF6g, bc_top=0, bc_top_type='constant', bc_bot=0, bc_bot_type='constant', w = -0.00)  #-0.055\n",
    "ftc2.add_species(theta=((phi_w**(10/3))/(phi**2)), element='SF6w', D= D_SF6w, init_C=ftc1.profiles.SF6w, bc_top=0, bc_top_type='constant', bc_bot=0, bc_bot_type='constant', w = w)\n",
    "\n",
    "# SF6mp stands for SF6 gas in micro pores, it is immobile and only collects SF6;\n",
    "ftc2.add_species(theta=phi_p, element='SF6mp', D=1e-18, init_C=ftc1.profiles.SF6mp, bc_top=0, bc_top_type='flux', bc_bot=0, bc_bot_type='flux')\n",
    "\n",
    "\n",
    "# # Constants\n",
    "ftc2.constants['k_w_in'] =  k_w_in #from FTR w\n",
    "ftc2.constants['k_w_out'] = k_w_out\n",
    "#0.4\n",
    "\n",
    "ftc2.constants['k_g_in'] = k_g_in\n",
    "ftc2.constants['k_g_out'] = k_g_out\n",
    "\n",
    "ftc2.constants['phi_w'] = phi_w\n",
    "ftc2.constants['phi_g'] = phi_g\n",
    "ftc2.constants['phi_p'] = phi_p\n",
    "\n",
    "\n",
    "# # Rates of diffusion into pores and out\n",
    "ftc2.rates['R_w_in'] = 'k_w_in * SF6w'\n",
    "ftc2.rates['R_w_out'] = 'k_w_out * SF6mp'\n",
    "# ftc2.rates['R_w_in'] = '0'\n",
    "# ftc2.rates['R_w_out'] = '0'\n",
    "\n",
    "ftc2.rates['R_g_in'] = 'k_g_in * SF6w'\n",
    "ftc2.rates['R_g_out'] = 'k_g_out * SF6g'\n",
    "\n",
    "# # dcdt\n",
    "ftc2.dcdt['SF6w'] = '-R_g_in + R_g_out * phi_g - R_w_in + R_w_out * phi_p'\n",
    "ftc2.dcdt['SF6g'] = 'R_g_in / phi_g - R_g_out'\n",
    "ftc2.dcdt['SF6mp'] = 'R_w_in / phi_p - R_w_out'\n",
    "\n",
    "\n",
    "\n"
   ]
  },
  {
   "cell_type": "code",
   "execution_count": null,
   "metadata": {},
   "outputs": [],
   "source": [
    "for i in range(0, len(ftc2.time)):\n",
    "    if (ftc2.time[i] + periods[0] > periods[0] and ftc2.time[i] + periods[0] < periods[1]) or (\n",
    "            ftc2.time[i]+ periods[0] > periods[2] and ftc2.time[i] + periods[0] < periods[3]\n",
    "    ) or (ftc2.time[i] + periods[0] > periods[4] and ftc2.time[i] + periods[0] < periods[5]):\n",
    "        ftc2.change_boundary_conditions('SF6g', i, bc_top=0, bc_top_type='flux')\n",
    "        ftc2.change_boundary_conditions('SF6w', i, bc_top=0, bc_top_type='flux')\n",
    "        Fx[i] = 0\n",
    "    else:\n",
    "        ftc2.change_boundary_conditions('SF6g', i, bc_top=0, bc_top_type='constant')\n",
    "        ftc2.change_boundary_conditions('SF6w', i, bc_top=0, bc_top_type='constant')\n",
    "        F1 = ftc2.estimate_flux_at_top('SF6g', i)\n",
    "        F2 = ftc2.estimate_flux_at_top('SF6w', i)\n",
    "        F3 = ftc2.estimate_flux_at_top('SF6mp', i)\n",
    "        Fx[i] = F1[i]+F2[i]+F3[i]\n",
    "    if any([ftc2.time[i] == T_inj for T_inj in Ti_2]):\n",
    "        SF6_add = np.zeros(x.size)\n",
    "        SF6_add[x > 0] = 0\n",
    "        SF6_add[x > 18 - (h_inj / 2)] = Ci[Ti_2 == ftc2.time[i]]\n",
    "        SF6_add[x > 18 + (h_inj / 2)] = 0\n",
    "        new_profile = ftc2.profiles['SF6w'] + SF6_add    #\n",
    "        ftc2.change_concentration_profile('SF6w', i, new_profile)\n",
    "\n",
    "    ftc2.integrate_one_timestep(i)"
   ]
  },
  {
   "cell_type": "code",
   "execution_count": null,
   "metadata": {},
   "outputs": [],
   "source": [
    "ftc2.plot_contourplots()"
   ]
  },
  {
   "cell_type": "code",
   "execution_count": null,
   "metadata": {},
   "outputs": [],
   "source": [
    "zm = 9\n",
    "measured = (ftc2.SF6w.concentration[ftc2.x == zm, :][0] * phi_w[ftc2.x == zm] + ftc2.SF6g.concentration[ftc2.x == zm, :][0] * phi_g[ftc2.x == zm] ) / (phi_w[ftc2.x == zm] + phi_g[ftc2.x == zm])\n",
    "# plt.scatter(Tm, C1D9, label='9 cm (C1)')\n",
    "# plt.scatter(Tm, C2D9, label='9 cm (C2)')\n",
    "# plt.scatter(Tm, C3D9, label='9 cm (C3)')\n",
    "plt.scatter(Tm, (C1D9+C2D9+C3D9)/3, label='9 cm')\n",
    "plt.plot(ftc2.time+periods[0], measured, 'k-')\n",
    "plt.ylabel(r'$SF_6$, $[nM]$')\n",
    "plt.xlabel('Time, $[h]$')\n",
    "plt.xlim(0,)\n",
    "plt.ylim(0,0.005)\n",
    "plt.legend(frameon=1, loc=2)\n",
    "\n"
   ]
  },
  {
   "cell_type": "code",
   "execution_count": null,
   "metadata": {},
   "outputs": [],
   "source": [
    "zm = 21\n",
    "# plt.scatter(Tm, C1D21, label ='21 cm (C1)')\n",
    "# plt.scatter(Tm, C2D21, label ='21 cm (C2)')\n",
    "# plt.scatter(Tm, C3D21, label ='21 cm (C3)')\n",
    "plt.scatter(Tm, (C1D21+C2D21+C3D21)/3, label='21 cm')\n",
    "measured = (ftc2.SF6w.concentration[ftc2.x == zm, :][0] * phi_w[ftc2.x == zm] + ftc2.SF6g.concentration[ftc2.x == zm, :][0] * phi_g[ftc2.x == zm] ) / (phi_w[ftc2.x == zm] + phi_g[ftc2.x == zm])\n",
    "plt.plot(ftc2.time+periods[0], measured, 'k-')\n",
    "plt.ylabel(r'$SF_6$, $[nM]$')\n",
    "plt.xlabel('Time, $[h]$')\n",
    "plt.legend(frameon=1)\n",
    "plt.xlim(0,)\n",
    "plt.ylim(0,)"
   ]
  },
  {
   "cell_type": "code",
   "execution_count": null,
   "metadata": {},
   "outputs": [],
   "source": [
    "zm = 33\n",
    "measured = (ftc2.SF6w.concentration[ftc2.x == zm, :][0] * phi_w[ftc2.x == zm] + ftc2.SF6g.concentration[ftc2.x == zm, :][0] * phi_g[ftc2.x == zm] ) / (phi_w[ftc2.x == zm] + phi_g[ftc2.x == zm])\n",
    "# plt.scatter(Tm, C1D33, label='33 cm (C1)')\n",
    "# plt.scatter(Tm, C2D33, label='33 cm (C2)')\n",
    "# plt.scatter(Tm, C3D33, label='33 cm (C3)')\n",
    "plt.scatter(Tm, (C1D33+C2D33+C3D33)/3, label='33 cm')\n",
    "plt.plot(ftc2.time+periods[0], measured, 'k-')\n",
    "plt.ylabel(r'$SF_6$, $[nM]$')\n",
    "plt.xlabel('Time, $[h]$')\n",
    "plt.legend(frameon=1, loc=2)\n",
    "plt.xlim(0,800)\n",
    "plt.ylim(0, 0.001)"
   ]
  },
  {
   "cell_type": "code",
   "execution_count": null,
   "metadata": {},
   "outputs": [],
   "source": [
    "F1 = ftc2.estimate_flux_at_top('SF6g')\n",
    "F2 = ftc2.estimate_flux_at_top('SF6w')\n",
    "F3 = ftc2.estimate_flux_at_top('SF6mp')\n",
    "# # gas flux\n",
    "\n",
    "# plt.plot(ftc1.time, F1, 'g')\n",
    "# plt.plot(ftc1.time, F2, 'b')\n",
    "plt.plot(ftc2.time+periods[0], F1+F2+F3, 'k')\n",
    "# plt.plot(T_frz, [0] )\n",
    "# F2 = ftc.estimate_flux_at_top('SF6w') # dissolved gas flux\n",
    "# plt.plot(ftc.time, F2)\n",
    "\n",
    "\n",
    "dC1h = (C1h[1::2] - C1h[::2])\n",
    "# dC2h = (C2h[1::2] - C2h[::2])\n",
    "# dC3h = (C3h[1::2] - C3h[::2])\n",
    "\n",
    "plt.scatter(Tm[::2], dC1h*Vh1/SA/2)\n",
    "# plt.scatter(Tm, dC2h*Vh2/SA/2)\n",
    "# plt.scatter(Tm, dC3h*Vh3/SA/2)\n",
    "for xc in periods:\n",
    "    plt.axvline(x=xc, color='k', linewidth=1.8, linestyle='-.')\n",
    "plt.ylim(0,0.0005)\n",
    "plt.xlim(0,800)\n",
    "# plt.scatter((Tm[::2]+1), dC1h*Vh1/SA/dT)\n",
    "\n"
   ]
  },
  {
   "cell_type": "code",
   "execution_count": null,
   "metadata": {},
   "outputs": [],
   "source": [
    "periods"
   ]
  },
  {
   "cell_type": "code",
   "execution_count": null,
   "metadata": {
    "collapsed": true
   },
   "outputs": [],
   "source": [
    "Ti_3 = Ti - periods[2]"
   ]
  },
  {
   "cell_type": "code",
   "execution_count": null,
   "metadata": {},
   "outputs": [],
   "source": [
    "tend = periods[4] - periods[2]\n",
    "dt = 0.01\n",
    "dx = 0.2 ## cm\n",
    "L = 40 ## cm\n",
    "x = np.linspace(0, L, L / dx + 1)\n",
    "t = np.linspace(0, tend, round(tend / dt) + 1)\n",
    "#phi = 0.8\n",
    "Chs = np.zeros(t.shape) #\n",
    "Fx = np.zeros(t.shape)\n",
    "phi = ( 0.99 - 0.91 ) * np.exp( -x / 10 ) + 0.91"
   ]
  },
  {
   "cell_type": "code",
   "execution_count": null,
   "metadata": {
    "collapsed": true
   },
   "outputs": [],
   "source": [
    "ftc3 = Column(L, dx, tend, dt)"
   ]
  },
  {
   "cell_type": "code",
   "execution_count": null,
   "metadata": {
    "collapsed": true
   },
   "outputs": [],
   "source": [
    "ftc3.add_species(theta=((phi_g**(10/3))/(phi**2)), element='SF6g', D= D_SF6g, init_C=ftc2.profiles.SF6g, bc_top=0, bc_top_type='constant', bc_bot=0, bc_bot_type='constant', w = -0.00)  #-0.055\n",
    "ftc3.add_species(theta=((phi_w**(10/3))/(phi**2)), element='SF6w', D= D_SF6w, init_C=ftc2.profiles.SF6w, bc_top=0, bc_top_type='constant', bc_bot=0, bc_bot_type='constant', w = w)\n",
    "\n",
    "# SF6mp stands for SF6 gas in micro pores, it is immobile and only collects SF6;\n",
    "ftc3.add_species(theta=phi_p, element='SF6mp', D=1e-18, init_C=ftc2.profiles.SF6mp, bc_top=0, bc_top_type='flux', bc_bot=0, bc_bot_type='flux')\n",
    "\n",
    "\n",
    "# # Constants\n",
    "ftc3.constants['k_w_in'] =  k_w_in #from FTR w\n",
    "ftc3.constants['k_w_out'] = k_w_out\n",
    "#0.4\n",
    "\n",
    "ftc3.constants['k_g_in'] = k_g_in\n",
    "ftc3.constants['k_g_out'] = k_g_out\n",
    "\n",
    "ftc3.constants['phi_w'] = phi_w\n",
    "ftc3.constants['phi_g'] = phi_g\n",
    "ftc3.constants['phi_p'] = phi_p\n",
    "\n",
    "\n",
    "# # Rates of diffusion into pores and out\n",
    "ftc3.rates['R_w_in'] = 'k_w_in * SF6w'\n",
    "ftc3.rates['R_w_out'] = 'k_w_out * SF6mp'\n",
    "# ftc3.rates['R_w_in'] = '0'\n",
    "# ftc3.rates['R_w_out'] = '0'\n",
    "\n",
    "ftc3.rates['R_g_in'] = 'k_g_in * SF6w'\n",
    "ftc3.rates['R_g_out'] = 'k_g_out * SF6g'\n",
    "\n",
    "# # dcdt\n",
    "ftc3.dcdt['SF6w'] = '-R_g_in + R_g_out * phi_g - R_w_in + R_w_out * phi_p'\n",
    "ftc3.dcdt['SF6g'] = 'R_g_in / phi_g - R_g_out'\n",
    "ftc3.dcdt['SF6mp'] = 'R_w_in / phi_p - R_w_out'\n",
    "\n",
    "\n",
    "\n",
    "\n"
   ]
  },
  {
   "cell_type": "code",
   "execution_count": null,
   "metadata": {
    "collapsed": true
   },
   "outputs": [],
   "source": [
    "for i in range(0, len(ftc3.time)):\n",
    "    if (ftc3.time[i] + periods[2] > periods[0] and ftc3.time[i] + periods[2] < periods[1]) or (\n",
    "            ftc3.time[i]+ periods[2] > periods[2] and ftc3.time[i] + periods[2] < periods[3]\n",
    "    ) or (ftc3.time[i] + periods[2] > periods[4] and ftc3.time[i] + periods[2] < periods[5]):\n",
    "        ftc3.change_boundary_conditions('SF6g', i, bc_top=0, bc_top_type='flux')\n",
    "        ftc3.change_boundary_conditions('SF6w', i, bc_top=0, bc_top_type='flux')\n",
    "        Fx[i] = 0\n",
    "    else:\n",
    "        ftc3.change_boundary_conditions('SF6g', i, bc_top=0, bc_top_type='constant')\n",
    "        ftc3.change_boundary_conditions('SF6w', i, bc_top=0, bc_top_type='constant')\n",
    "        F1 = ftc3.estimate_flux_at_top('SF6g', i)\n",
    "        F2 = ftc3.estimate_flux_at_top('SF6w', i)\n",
    "        F3 = ftc3.estimate_flux_at_top('SF6mp', i)\n",
    "        Fx[i] = F1[i]+F2[i]+F3[i]\n",
    "    if any([ftc3.time[i] == T_inj for T_inj in Ti_3]):\n",
    "        SF6_add = np.zeros(x.size)\n",
    "        SF6_add[x > 0] = 0\n",
    "        SF6_add[x > 18 - (h_inj / 2)] = Ci[Ti_3 == ftc3.time[i]]\n",
    "        SF6_add[x > 18 + (h_inj / 2)] = 0\n",
    "        new_profile = ftc3.profiles['SF6w'] + SF6_add    #\n",
    "        ftc3.change_concentration_profile('SF6w', i, new_profile)\n",
    "\n",
    "    ftc3.integrate_one_timestep(i)"
   ]
  },
  {
   "cell_type": "code",
   "execution_count": null,
   "metadata": {},
   "outputs": [],
   "source": [
    "ftc3.plot_contourplots()"
   ]
  },
  {
   "cell_type": "code",
   "execution_count": null,
   "metadata": {},
   "outputs": [],
   "source": [
    "zm = 9\n",
    "measured = (ftc3.SF6w.concentration[ftc3.x == zm, :][0] * phi_w[ftc3.x == zm] + ftc3.SF6g.concentration[ftc3.x == zm, :][0] * phi_g[ftc3.x == zm] ) / (phi_w[ftc3.x == zm] + phi_g[ftc3.x == zm])\n",
    "# plt.scatter(Tm, C1D9, label='9 cm (C1)')\n",
    "# plt.scatter(Tm, C2D9, label='9 cm (C2)')\n",
    "# plt.scatter(Tm, C3D9, label='9 cm (C3)')\n",
    "plt.scatter(Tm, (C1D9+C2D9+C3D9)/3, label='9 cm')\n",
    "plt.plot(ftc3.time+periods[2], measured, 'k-')\n",
    "plt.ylabel(r'$SF_6$, $[nM]$')\n",
    "plt.xlabel('Time, $[h]$')\n",
    "plt.xlim(0,)\n",
    "plt.ylim(0,0.005)\n",
    "plt.legend(frameon=1, loc=2)\n",
    "\n",
    "\n"
   ]
  },
  {
   "cell_type": "code",
   "execution_count": null,
   "metadata": {},
   "outputs": [],
   "source": [
    "zm = 21\n",
    "measured = (ftc3.SF6w.concentration[ftc3.x == zm, :][0] * phi_w[ftc3.x == zm] + ftc3.SF6g.concentration[ftc3.x == zm, :][0] * phi_g[ftc3.x == zm] ) / (phi_w[ftc3.x == zm] + phi_g[ftc3.x == zm])\n",
    "# plt.scatter(Tm, C1D9, label='9 cm (C1)')\n",
    "# plt.scatter(Tm, C2D9, label='9 cm (C2)')\n",
    "# plt.scatter(Tm, C3D9, label='9 cm (C3)')\n",
    "plt.scatter(Tm, (C1D21+C2D21+C3D21)/3, label='21 cm')\n",
    "plt.plot(ftc3.time+periods[2], measured, 'k-')\n",
    "plt.ylabel(r'$SF_6$, $[nM]$')\n",
    "plt.xlabel('Time, $[h]$')\n",
    "plt.xlim(0,)\n",
    "plt.ylim(0,0.005)\n",
    "plt.legend(frameon=1, loc=2)\n",
    "\n",
    "\n"
   ]
  },
  {
   "cell_type": "code",
   "execution_count": null,
   "metadata": {},
   "outputs": [],
   "source": [
    "zm = 33\n",
    "measured = (ftc3.SF6w.concentration[ftc3.x == zm, :][0] * phi_w[ftc3.x == zm] + ftc3.SF6g.concentration[ftc3.x == zm, :][0] * phi_g[ftc3.x == zm] ) / (phi_w[ftc3.x == zm] + phi_g[ftc3.x == zm])\n",
    "# plt.scatter(Tm, C1D9, label='9 cm (C1)')\n",
    "# plt.scatter(Tm, C2D9, label='9 cm (C2)')\n",
    "# plt.scatter(Tm, C3D9, label='9 cm (C3)')\n",
    "plt.scatter(Tm, (C1D33+C2D33+C3D33)/3, label='33 cm')\n",
    "plt.plot(ftc3.time+periods[2], measured, 'k-')\n",
    "plt.ylabel(r'$SF_6$, $[nM]$')\n",
    "plt.xlabel('Time, $[h]$')\n",
    "plt.xlim(0,)\n",
    "plt.ylim(0,0.005)\n",
    "plt.legend(frameon=1, loc=2)\n",
    "\n",
    "\n",
    "\n"
   ]
  },
  {
   "cell_type": "code",
   "execution_count": null,
   "metadata": {},
   "outputs": [],
   "source": [
    "F1 = ftc3.estimate_flux_at_top('SF6g')\n",
    "F2 = ftc3.estimate_flux_at_top('SF6w')\n",
    "F3 = ftc3.estimate_flux_at_top('SF6mp')\n",
    "# # gas flux\n",
    "\n",
    "# plt.plot(ftc1.time, F1, 'g')\n",
    "# plt.plot(ftc1.time, F2, 'b')\n",
    "plt.plot(ftc3.time+periods[2], F1+F2+F3, 'k')\n",
    "# plt.plot(T_frz, [0] )\n",
    "# F2 = ftc.estimate_flux_at_top('SF6w') # dissolved gas flux\n",
    "# plt.plot(ftc.time, F2)\n",
    "\n",
    "\n",
    "dC1h = (C1h[1::2] - C1h[::2])\n",
    "dC2h = (C2h[1::2] - C2h[::2])\n",
    "dC3h = (C3h[1::2] - C3h[::2])\n",
    "\n",
    "plt.scatter(Tm[::2], dC1h*Vh1/SA/2)\n",
    "plt.scatter(Tm[::2], dC2h*Vh2/SA/2)\n",
    "plt.scatter(Tm[::2], dC3h*Vh3/SA/2)\n",
    "plt.scatter(Tm[::2], (dC3h*Vh3/SA/2 + dC2h*Vh2/SA/2 + dC1h*Vh1/SA/2)/3, c='k')\n",
    "for xc in periods:\n",
    "    plt.axvline(x=xc, color='k', linewidth=1.8, linestyle='-.')\n",
    "plt.ylim(0,0.0005)\n",
    "plt.xlim(0,800)\n",
    "# plt.scatter((Tm[::2]+1), dC1h*Vh1/SA/dT)\n",
    "\n",
    "\n"
   ]
  },
  {
   "cell_type": "code",
   "execution_count": null,
   "metadata": {},
   "outputs": [],
   "source": [
    "from porousmedialab.calibrator import find_indexes_of_intersections"
   ]
  },
  {
   "cell_type": "code",
   "execution_count": null,
   "metadata": {},
   "outputs": [],
   "source": [
    "\n",
    "zm = 9\n",
    "M1D9 = (\n",
    "    ftc1.SF6w.concentration[ftc1.x == zm, :] *\n",
    "    phi_w[ftc1.x == zm] + ftc1.SF6g.\n",
    "    concentration[ftc1.x == zm, :] * phi_g[ftc1.x == zm]) / (\n",
    "        phi_w[ftc1.x == zm] + phi_g[ftc1.x == zm])\n",
    "\n",
    "M2D9 = (\n",
    "    ftc2.SF6w.concentration[ftc2.x == zm, :] *\n",
    "    phi_w[ftc2.x == zm] + ftc2.SF6g.\n",
    "    concentration[ftc2.x == zm, :] * phi_g[ftc2.x == zm]) / (\n",
    "        phi_w[ftc2.x == zm] + phi_g[ftc2.x == zm])\n",
    "\n",
    "M3D9 = (\n",
    "    ftc3.SF6w.concentration[ftc3.x == zm, :] *\n",
    "    phi_w[ftc3.x == zm] + ftc3.SF6g.\n",
    "    concentration[ftc3.x == zm, :] * phi_g[ftc3.x == zm]) / (\n",
    "        phi_w[ftc3.x == zm] + phi_g[ftc3.x == zm])\n",
    "\n",
    "MD9 = np.concatenate((M1D9[0], M2D9[0], M3D9[0]))\n",
    "\n",
    "zm = 21\n",
    "M1D21 = (\n",
    "    ftc1.SF6w.concentration[ftc1.x == zm, :] *\n",
    "    phi_w[ftc1.x == zm] + ftc1.SF6g.\n",
    "    concentration[ftc1.x == zm, :] * phi_g[ftc1.x == zm]) / (\n",
    "        phi_w[ftc1.x == zm] + phi_g[ftc1.x == zm])\n",
    "\n",
    "M2D21 = (\n",
    "    ftc2.SF6w.concentration[ftc2.x == zm, :] *\n",
    "    phi_w[ftc2.x == zm] + ftc2.SF6g.\n",
    "    concentration[ftc2.x == zm, :] * phi_g[ftc2.x == zm]) / (\n",
    "        phi_w[ftc2.x == zm] + phi_g[ftc2.x == zm])\n",
    "\n",
    "M3D21 = (\n",
    "    ftc3.SF6w.concentration[ftc3.x == zm, :] *\n",
    "    phi_w[ftc3.x == zm] + ftc3.SF6g.\n",
    "    concentration[ftc3.x == zm, :] * phi_g[ftc3.x == zm]) / (\n",
    "        phi_w[ftc3.x == zm] + phi_g[ftc3.x == zm])\n",
    "\n",
    "MD21 = np.concatenate((M1D21[0], M2D21[0], M3D21[0]))\n",
    "\n",
    "zm = 33\n",
    "M1D33 = (\n",
    "    ftc1.SF6w.concentration[ftc1.x == zm, :] *\n",
    "    phi_w[ftc1.x == zm] + ftc1.SF6g.\n",
    "    concentration[ftc1.x == zm, :] * phi_g[ftc1.x == zm]) / (\n",
    "        phi_w[ftc1.x == zm] + phi_g[ftc1.x == zm])\n",
    "\n",
    "M2D33 = (\n",
    "    ftc2.SF6w.concentration[ftc2.x == zm, :] *\n",
    "    phi_w[ftc2.x == zm] + ftc2.SF6g.\n",
    "    concentration[ftc2.x == zm, :] * phi_g[ftc2.x == zm]) / (\n",
    "        phi_w[ftc2.x == zm] + phi_g[ftc2.x == zm])\n",
    "\n",
    "M3D33 = (\n",
    "    ftc3.SF6w.concentration[ftc3.x == zm, :] *\n",
    "    phi_w[ftc3.x == zm] + ftc3.SF6g.\n",
    "    concentration[ftc3.x == zm, :] * phi_g[ftc3.x == zm]) / (\n",
    "        phi_w[ftc3.x == zm] + phi_g[ftc3.x == zm])\n",
    "\n",
    "MD33 = np.concatenate((M1D33[0], M2D33[0], M3D33[0]))\n",
    "\n",
    "\n",
    "MF1 = ftc1.estimate_flux_at_top('SF6g') + ftc1.estimate_flux_at_top('SF6w') + ftc1.estimate_flux_at_top('SF6mp')\n",
    "MF2 = ftc2.estimate_flux_at_top('SF6g') + ftc2.estimate_flux_at_top('SF6w') + ftc2.estimate_flux_at_top('SF6mp')\n",
    "MF3 = ftc3.estimate_flux_at_top('SF6g') + ftc3.estimate_flux_at_top('SF6w') + ftc3.estimate_flux_at_top('SF6mp')\n",
    "\n",
    "MF = np.concatenate((MF1, MF2, MF3))\n",
    "\n",
    "MT = np.concatenate((ftc1.time, ftc2.time + ftc1.time[-1], ftc3.time + ftc2.time[-1] + ftc1.time[-1]))\n"
   ]
  },
  {
   "cell_type": "code",
   "execution_count": null,
   "metadata": {},
   "outputs": [],
   "source": [
    "plt.plot(MT, MD9)\n",
    "plt.scatter(Tm, C1D9)\n",
    "plt.plot(MT, MD21)\n",
    "plt.scatter(Tm, C1D21)\n",
    "plt.plot(MT, MD33)\n",
    "plt.scatter(Tm, C1D33)\n",
    "# plt.xlim(0,796)\n",
    "plt.ylim(0,0.006)"
   ]
  },
  {
   "cell_type": "code",
   "execution_count": null,
   "metadata": {},
   "outputs": [],
   "source": [
    "idxs = find_indexes_of_intersections(MT, Tm)"
   ]
  },
  {
   "cell_type": "code",
   "execution_count": null,
   "metadata": {},
   "outputs": [],
   "source": [
    "rmse(MD9[idxs], C1D9[:len(MD21[idxs])])"
   ]
  },
  {
   "cell_type": "code",
   "execution_count": null,
   "metadata": {},
   "outputs": [],
   "source": [
    "C1D9[:2]"
   ]
  },
  {
   "cell_type": "code",
   "execution_count": null,
   "metadata": {
    "collapsed": true
   },
   "outputs": [],
   "source": [
    "from porousmedialab.metrics import rmse"
   ]
  },
  {
   "cell_type": "code",
   "execution_count": null,
   "metadata": {
    "collapsed": true
   },
   "outputs": [],
   "source": [
    "dC1h = (C1h[1::2] - C1h[::2])\n",
    "dC2h = (C2h[1::2] - C2h[::2])\n",
    "dC3h = (C3h[1::2] - C3h[::2])\n",
    "Fx_mean = (dC3h * Vh3 / SA / 2 + dC2h * Vh2 / SA / 2 + dC1h * Vh1 / SA / 2) / 3\n",
    "\n",
    "CD33_mean = (C1D33 + C2D33 + C3D33) / 3\n",
    "CD21_mean = (C1D21 + C2D21 + C3D21) / 3\n",
    "CD9_mean = (C1D9 + C2D9 + C3D9) / 3"
   ]
  },
  {
   "cell_type": "code",
   "execution_count": null,
   "metadata": {},
   "outputs": [],
   "source": [
    "err = rmse(MD9[idxs], CD9_mean[:len(MD9[idxs])]) + rmse(\n",
    "    MD21[idxs], CD21_mean[:len(MD21[idxs])]) + rmse(MD33[idxs],\n",
    "                                              CD33_mean[:len(MD33[idxs])]) + 100 * rmse(MF[idxs_f], Fx_mean[:len(MF[idxs_f])])"
   ]
  },
  {
   "cell_type": "code",
   "execution_count": null,
   "metadata": {},
   "outputs": [],
   "source": [
    "err"
   ]
  },
  {
   "cell_type": "code",
   "execution_count": null,
   "metadata": {
    "collapsed": true
   },
   "outputs": [],
   "source": [
    "idxs_f = find_indexes_of_intersections(MT, Tm[::2]+1)"
   ]
  },
  {
   "cell_type": "code",
   "execution_count": null,
   "metadata": {},
   "outputs": [],
   "source": [
    "rmse(MF[idxs_f], Fx_mean[:len(MF[idxs_f])])"
   ]
  },
  {
   "cell_type": "code",
   "execution_count": null,
   "metadata": {
    "collapsed": true
   },
   "outputs": [],
   "source": [
    "err = rmse(MD9[idxs], CD9_mean[:len(MD9[idxs])]) + rmse(\n",
    "    MD21[idxs], CD21_mean[:len(MD21[idxs])]) + rmse(MD33[idxs],\n",
    "                                              CD33_mean[:len(MD33[idxs])]) + 100 * rmse(MF[idxs_f], Fx_mean[:len(MF[idxs_f])])"
   ]
  },
  {
   "cell_type": "code",
   "execution_count": null,
   "metadata": {},
   "outputs": [],
   "source": [
    "err"
   ]
  },
  {
   "cell_type": "code",
   "execution_count": null,
   "metadata": {
    "collapsed": true
   },
   "outputs": [],
   "source": []
  }
 ],
 "metadata": {
  "anaconda-cloud": {},
  "kernelspec": {
   "display_name": "Python 3",
   "language": "python",
   "name": "python3"
  },
  "language_info": {
   "codemirror_mode": {
    "name": "ipython",
    "version": 3
   },
   "file_extension": ".py",
   "mimetype": "text/x-python",
   "name": "python",
   "nbconvert_exporter": "python",
   "pygments_lexer": "ipython3",
   "version": "3.6.3"
  }
 },
 "nbformat": 4,
 "nbformat_minor": 1
}
