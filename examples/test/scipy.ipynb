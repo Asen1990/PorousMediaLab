{
 "cells": [
  {
   "cell_type": "code",
   "execution_count": null,
   "metadata": {},
   "outputs": [
    {
     "name": "stderr",
     "output_type": "stream",
     "text": [
      "/Users/imarkelo/git/PorousMediaLab/examples/temporary testing folder/danny_optimization.py:35: DeprecationWarning: object of type <class 'float'> cannot be safely interpreted as an integer.\n",
      "  x = np.linspace(0, L, L / dx + 1)\n"
     ]
    },
    {
     "name": "stdout",
     "output_type": "stream",
     "text": [
      "-0.0196850617169 0.0585636682011 0.0242497929538 1.09455525468 54.991\n",
      "0.00386861221653\n",
      "-0.0206693148027 0.0585636682011 0.0242497929538 1.09455525468 54.991\n"
     ]
    }
   ],
   "source": [
    "%run danny_optimization.py"
   ]
  },
  {
   "cell_type": "code",
   "execution_count": null,
   "metadata": {
    "collapsed": true
   },
   "outputs": [],
   "source": []
  }
 ],
 "metadata": {
  "kernelspec": {
   "display_name": "Python 3",
   "language": "python",
   "name": "python3"
  },
  "language_info": {
   "codemirror_mode": {
    "name": "ipython",
    "version": 3
   },
   "file_extension": ".py",
   "mimetype": "text/x-python",
   "name": "python",
   "nbconvert_exporter": "python",
   "pygments_lexer": "ipython3",
   "version": "3.6.3"
  }
 },
 "nbformat": 4,
 "nbformat_minor": 2
}
