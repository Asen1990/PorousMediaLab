{
 "cells": [
  {
   "cell_type": "code",
   "execution_count": 1,
   "metadata": {
    "collapsed": true
   },
   "outputs": [],
   "source": [
    "import sys\n",
    "sys.path.append('../')\n",
    "\n",
    "import matplotlib.pyplot as plt\n",
    "from porousmedialab.batch import Batch\n",
    "import numpy as np\n",
    "import seaborn as sns\n",
    "%matplotlib inline"
   ]
  },
  {
   "cell_type": "code",
   "execution_count": 2,
   "metadata": {
    "collapsed": true
   },
   "outputs": [],
   "source": [
    "tend = 40 * 24 * 60 * 60\n",
    "dt = 1 * 24 * 60 * 60"
   ]
  },
  {
   "cell_type": "code",
   "execution_count": 3,
   "metadata": {
    "collapsed": true
   },
   "outputs": [],
   "source": [
    "bl = Batch(tend, dt)"
   ]
  },
  {
   "cell_type": "code",
   "execution_count": null,
   "metadata": {
    "collapsed": true
   },
   "outputs": [],
   "source": []
  },
  {
   "cell_type": "code",
   "execution_count": 4,
   "metadata": {
    "collapsed": true
   },
   "outputs": [],
   "source": [
    "# ED\n",
    "bl.add_species(element='POC', init_C=12e-3)\n",
    "bl.add_species(element='CO2', init_C=2e-3)\n",
    "bl.add_species(element='Fe2', init_C=0)\n",
    "bl.add_species(element='CH4', init_C=0)\n",
    "\n",
    "# EA\n",
    "bl.add_species(element='NO3', init_C=1.5e-3)\n",
    "bl.add_species(element='Fe3', init_C=17.8e-3)\n",
    "bl.add_species(element='SO4', init_C=1.7e-3)\n",
    "\n",
    "# Henry law equilibrium:\n",
    "bl.add_species(element='CH4g', init_C=0)\n",
    "bl.add_partition_equilibrium('CH4', 'CH4g', 1.4)"
   ]
  },
  {
   "cell_type": "code",
   "execution_count": 5,
   "metadata": {
    "collapsed": true
   },
   "outputs": [],
   "source": [
    "bl.constants['Km_NO3'] = 0.001e-3\n",
    "bl.constants['Km_Fe3_surf'] = 2e-3\n",
    "bl.constants['Km_SO4'] = 0.3e-4\n",
    "bl.constants['k1'] = 0.1 / 24 / 60 / 60\n",
    "bl.constants['SA'] = 600\n",
    "bl.constants['ro_min'] = 3.84e-6\n",
    "bl.constants['MW_Fe3'] = 106.8\n",
    "bl.constants['Fe3_init'] = 17.8e-3"
   ]
  },
  {
   "cell_type": "code",
   "execution_count": 6,
   "metadata": {
    "collapsed": true
   },
   "outputs": [],
   "source": [
    "bl.rates['r_NO3'] = 'k1 * POC * NO3 / (Km_NO3 + NO3)'\n",
    "bl.rates['r_Fe3'] = 'k1 * POC *Fe3 / (Km_Fe3_surf +Fe3) * Km_NO3 / (Km_NO3 + NO3)'\n",
    "bl.rates['r_SO4'] = 'k1 * POC * SO4 / (Km_SO4 + SO4) * Km_Fe3_surf / (Km_Fe3_surf +Fe3) * Km_NO3 / (Km_NO3 + NO3)'\n",
    "bl.rates['r_CH4'] = 'k1 * POC * Km_SO4 / (Km_SO4 + SO4) * Km_Fe3_surf / (Km_Fe3_surf +Fe3) * Km_NO3 / (Km_NO3 + NO3)'"
   ]
  },
  {
   "cell_type": "code",
   "execution_count": 7,
   "metadata": {
    "collapsed": true
   },
   "outputs": [],
   "source": [
    "bl.dcdt['POC'] = '- r_NO3 - r_Fe3 - r_SO4 - r_CH4'\n",
    "bl.dcdt['NO3'] = '- 4 / 5 * r_NO3'\n",
    "bl.dcdt['Fe3'] = '- 4 * r_Fe3'\n",
    "bl.dcdt['Fe2'] = '4 * r_Fe3'\n",
    "bl.dcdt['SO4'] = '- 1 / 2 * r_SO4'\n",
    "bl.dcdt['CO2'] = '1 * (r_NO3 + r_Fe3 + r_SO4)'\n",
    "bl.dcdt['CH4'] = '1 / 2 * r_CH4'"
   ]
  },
  {
   "cell_type": "code",
   "execution_count": 8,
   "metadata": {},
   "outputs": [
    {
     "name": "stdout",
     "output_type": "stream",
     "text": [
      "Simulation started:\n",
      "\t 2017-11-17 13:55:46\n"
     ]
    }
   ],
   "source": [
    "bl.solve()"
   ]
  },
  {
   "cell_type": "code",
   "execution_count": 9,
   "metadata": {},
   "outputs": [
    {
     "data": {
      "text/plain": [
       "<matplotlib.legend.Legend at 0x1a1d94a278>"
      ]
     },
     "execution_count": 9,
     "metadata": {},
     "output_type": "execute_result"
    },
    {
     "data": {
      "image/png": "[encoded data removed]",
      "text/plain": [
       "<matplotlib.figure.Figure at 0x1a160f8668>"
      ]
     },
     "metadata": {},
     "output_type": "display_data"
    }
   ],
   "source": [
    "SO4_t = [0.013, 1.013, 2.016, 3.005, 4.985, 6.851, 8.865, 11.882, 14.899, 18.713, 23.057, 28.923, 35.955]\n",
    "SO4 = [1.643, 1.646, 1.565, 1.678, 1.484, 1.360, 1.121, 0.754, 0.336, 0.011, 0.014, 0.003, 0.002]\n",
    "NO3_t  = [0.036, 1.054, 1.988, 3.053, 5.008, 6.859, 9.018, 11.864, 14.857, 18.734, 23.065, 28.895, 35.898]\n",
    "NO3 = [1.710, 0, 0, 0, 0, 0, 0, 0, 0, 0, 0, 0, 0]\n",
    "Fe2_t = [0.017, 0.988, 2.003, 3.033, 4.987, 6.916, 8.909, 11.923, 14.896, 18.653, 23.070, 28.984, 35.975]\n",
    "Fe2 = [1.588, 2.307, 5.167, 10.080, 15.267, 16.464, 18.682, 18.846, 16.893, 18.819, 19.503, 19.049, 19.254]\n",
    "CO2_t = [0.156, 1.032, 2.070, 3.072, 5.069, 6.893, 8.919, 11.928, 14.948, 18.766, 23.078, 28.996, 35.988]\n",
    "CO2 = [1.076, 2.109, 3.247, 5.008, 7.323, 8.342, 9.048, 9.648, 10.971, 10.958, 11.512, 10.448, 10.802]\n",
    "CH4_t = [0.049, 1.016, 2.018, 3.011, 5.014, 6.872, 8.894, 11.903, 14.888, 18.724, 23.030, 28.954, 35.978]\n",
    "CH4 = [0.005, 0.002, 0.005, 0.005, 0.005, 0.005, 0.022, 0.044, 0.077, 0.091, 0.168, 0.347, 0.637]\n",
    "\n",
    "fig, ax1 = plt.subplots()\n",
    "ax2 = ax1.twinx()\n",
    "ax1.plot(bl.time*1 / 24 / 60 / 60, 1e+3*bl.NO3.concentration[0], c=sns.color_palette(\"deep\", 10)[0], lw=3, label='NO3')\n",
    "ax1.scatter(NO3_t, NO3, c=sns.color_palette(\"deep\", 10)[0], lw=1)\n",
    "ax1.plot(bl.time*1 / 24 / 60 / 60, 1e+3*bl.SO4.concentration[0], c=sns.color_palette(\"deep\", 10)[1], lw=3, label='SO4')\n",
    "ax1.scatter(SO4_t, SO4, c=sns.color_palette(\"deep\", 10)[1], lw=1,)\n",
    "ax1.plot(bl.time*1 / 24 / 60 / 60, 1e+3*bl.CH4.concentration[0], c=sns.color_palette(\"deep\", 10)[2], lw=3, label='CH4')\n",
    "ax1.scatter(CH4_t, CH4, c=sns.color_palette(\"deep\", 10)[2], lw=1,)\n",
    "ax2.plot(bl.time*1 / 24 / 60 / 60, 1e+3*bl.Fe2.concentration[0], c=sns.color_palette(\"deep\", 10)[3], lw=3, label='Fe2')\n",
    "ax2.scatter(Fe2_t, Fe2, c=sns.color_palette(\"deep\", 10)[3], lw=1,)\n",
    "ax2.plot(bl.time*1 / 24 / 60 / 60, 1e+3*bl.CO2.concentration[0], c=sns.color_palette(\"deep\", 10)[4], lw=3, label='CO2')\n",
    "ax2.scatter(CO2_t, CO2, c=sns.color_palette(\"deep\", 10)[4], lw=1,)\n",
    "ax2.grid(False)\n",
    "ax1.grid(lw=0.2)\n",
    "ax1.set_ylim(0, 2.5)\n",
    "ax1.set_xlim(0, 40)\n",
    "ax2.set_ylim(0, 25)\n",
    "ax1.legend(frameon=1, loc=2)\n",
    "ax2.legend(frameon=1, loc=1)\n"
   ]
  },
  {
   "cell_type": "code",
   "execution_count": null,
   "metadata": {
    "collapsed": true
   },
   "outputs": [],
   "source": []
  }
 ],
 "metadata": {
  "anaconda-cloud": {},
  "kernelspec": {
   "display_name": "Python 3",
   "language": "python",
   "name": "python3"
  },
  "language_info": {
   "codemirror_mode": {
    "name": "ipython",
    "version": 3
   },
   "file_extension": ".py",
   "mimetype": "text/x-python",
   "name": "python",
   "nbconvert_exporter": "python",
   "pygments_lexer": "ipython3",
   "version": "3.6.3"
  }
 },
 "nbformat": 4,
 "nbformat_minor": 1
}
