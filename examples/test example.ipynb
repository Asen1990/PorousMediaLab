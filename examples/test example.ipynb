{
 "cells": [
  {
   "cell_type": "code",
   "execution_count": 176,
   "metadata": {
    "collapsed": false
   },
   "outputs": [],
   "source": [
    "import matplotlib.pyplot as plt\n",
    "import sys\n",
    "sys.path.append('../src')\n",
    "from PorousMediaLab import PorousMediaLab\n",
    "import numpy as np\n",
    "%matplotlib inline"
   ]
  },
  {
   "cell_type": "code",
   "execution_count": 177,
   "metadata": {
    "collapsed": true
   },
   "outputs": [],
   "source": [
    "# tend = 10\n",
    "tend = 2\n",
    "dt = 0.01\n",
    "dx = 0.1 \n",
    "L = 10\n",
    "x = np.linspace(0, L, L / dx + 1)\n",
    "t = np.linspace(0, tend, round(tend / dt) + 1)\n",
    "phi = 1 -  0.03 * x"
   ]
  },
  {
   "cell_type": "code",
   "execution_count": 178,
   "metadata": {
    "collapsed": false
   },
   "outputs": [
    {
     "data": {
      "text/plain": [
       "[<matplotlib.lines.Line2D at 0x1164a14e0>]"
      ]
     },
     "execution_count": 178,
     "metadata": {},
     "output_type": "execute_result"
    },
    {
     "data": {
      "image/png": "[encoded data removed]",
      "text/plain": [
       "<matplotlib.figure.Figure at 0x11653a358>"
      ]
     },
     "metadata": {},
     "output_type": "display_data"
    }
   ],
   "source": [
    "plt.plot(phi)"
   ]
  },
  {
   "cell_type": "code",
   "execution_count": 179,
   "metadata": {
    "collapsed": true
   },
   "outputs": [],
   "source": [
    "ftc = PorousMediaLab(L, dx, tend, dt, phi)"
   ]
  },
  {
   "cell_type": "code",
   "execution_count": 180,
   "metadata": {
    "collapsed": false,
    "scrolled": false
   },
   "outputs": [],
   "source": [
    "# ftc.add_species(is_solute=True, element='Ca', D=4, init_C=1, bc_top=0., bc_top_type='neumann', bc_bot=0, bc_bot_type='neumann')\n",
    "ftc.add_species(is_solute=True, element='Ca', D=4, init_C=1, bc_top=1., bc_top_type='constant', bc_bot=0, bc_bot_type='neumann')\n"
   ]
  },
  {
   "cell_type": "code",
   "execution_count": 181,
   "metadata": {
    "collapsed": false,
    "scrolled": false
   },
   "outputs": [
    {
     "name": "stdout",
     "output_type": "stream",
     "text": [
      "Simulation starts  with following params:\n",
      "\ttend = 2.0,\n",
      "\tdt = 1.00e-02,\n",
      "\tL = 10.0,\n",
      "\tdx = 1.00e-01,\n",
      "\tw = 0.00\n",
      "Simulation started:\n",
      "\t 2017-08-15 20:25:06\n",
      "\n",
      "\n",
      "Estimated time of the code execution:\n",
      "\t 0h:00m:00s\n",
      "Will finish approx.:\n",
      "\t 2017-08-15 20:25:06\n"
     ]
    }
   ],
   "source": [
    "# %%timeit\n",
    "ftc.solve()"
   ]
  },
  {
   "cell_type": "code",
   "execution_count": 182,
   "metadata": {
    "collapsed": false,
    "scrolled": true
   },
   "outputs": [
    {
     "data": {
      "image/png": "[encoded data removed]",
      "text/plain": [
       "<matplotlib.figure.Figure at 0x1162de518>"
      ]
     },
     "metadata": {},
     "output_type": "display_data"
    }
   ],
   "source": [
    "ftc.plot_profiles()"
   ]
  },
  {
   "cell_type": "code",
   "execution_count": 183,
   "metadata": {
    "collapsed": false
   },
   "outputs": [
    {
     "data": {
      "text/plain": [
       "array([ 1.        ,  0.99921614,  0.99842465,  0.99762254,  0.99680679,\n",
       "        0.99597434,  0.99512206,  0.99424678,  0.99334527,  0.99241424,\n",
       "        0.99145033,  0.99045013,  0.98941015,  0.98832682,  0.98719649,\n",
       "        0.98601545,  0.98477988,  0.9834859 ,  0.98212953,  0.98070669,\n",
       "        0.97921323,  0.97764488,  0.97599729,  0.97426602,  0.97244652,\n",
       "        0.97053413,  0.96852411,  0.96641162,  0.96419171,  0.96185935,\n",
       "        0.95940939,  0.9568366 ,  0.95413565,  0.95130113,  0.94832752,\n",
       "        0.94520925,  0.94194063,  0.93851593,  0.93492931,  0.93117489,\n",
       "        0.92724673,  0.9231388 ,  0.91884508,  0.91435944,  0.90967577,\n",
       "        0.9047879 ,  0.89968965,  0.89437484,  0.88883728,  0.88307079,\n",
       "        0.87706921,  0.8708264 ,  0.86433626,  0.85759276,  0.85058992,\n",
       "        0.84332181,  0.83578263,  0.82796663,  0.81986821,  0.81148186,\n",
       "        0.80280223,  0.79382408,  0.78454238,  0.77495222,  0.76504891,\n",
       "        0.75482795,  0.74428503,  0.73341608,  0.72221726,  0.71068499,\n",
       "        0.69881591,  0.68660696,  0.67405535,  0.66115858,  0.64791444,\n",
       "        0.63432106,  0.62037684,  0.60608056,  0.59143129,  0.57642848,\n",
       "        0.56107189,  0.54536166,  0.52929828,  0.51288262,  0.49611588,\n",
       "        0.47899968,  0.46153596,  0.44372706,  0.4255757 ,  0.40708495,\n",
       "        0.38825826,  0.36909945,  0.34961268,  0.32980251,  0.30967381,\n",
       "        0.28923182,  0.26848212,  0.2474306 ,  0.22608348,  0.20444731,\n",
       "        0.18252891])"
      ]
     },
     "execution_count": 183,
     "metadata": {},
     "output_type": "execute_result"
    }
   ],
   "source": [
    "ftc.profiles.Ca"
   ]
  },
  {
   "cell_type": "code",
   "execution_count": null,
   "metadata": {
    "collapsed": true
   },
   "outputs": [],
   "source": []
  }
 ],
 "metadata": {
  "anaconda-cloud": {},
  "kernelspec": {
   "display_name": "Python [conda root]",
   "language": "python",
   "name": "conda-root-py"
  },
  "language_info": {
   "codemirror_mode": {
    "name": "ipython",
    "version": 3
   },
   "file_extension": ".py",
   "mimetype": "text/x-python",
   "name": "python",
   "nbconvert_exporter": "python",
   "pygments_lexer": "ipython3",
   "version": "3.5.3"
  }
 },
 "nbformat": 4,
 "nbformat_minor": 1
}
