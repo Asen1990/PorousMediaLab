{
 "cells": [
  {
   "cell_type": "code",
   "execution_count": null,
   "metadata": {},
   "outputs": [],
   "source": [
    "import matplotlib.pyplot as plt\n",
    "import sys\n",
    "sys.path.append('../../src')\n",
    "import numpy as np\n",
    "from phcalc import *\n",
    "import numpy as np\n",
    "%matplotlib inline\n",
    "\n",
    "na_moles = np.linspace(1e-8, 5.e-3, 50000)\n",
    "sol_volume = 1. # Liter\n",
    "phos = Acid(pKa=[2.148, 7.198, 12.375], charge=0, conc=1.e-3)\n",
    "phs = []\n",
    "pH = 2\n",
    "for mol in na_moles:\n",
    "    na = Neutral(charge=1, conc=mol/sol_volume)\n",
    "    system = System(phos, na)\n",
    "    system.pHsolve(guess_est=True)\n",
    "    pH = system.pH \n",
    "    phs.append(pH)\n",
    "plt.plot(na_moles, phs)\n",
    "plt.grid(lw=0.2)\n",
    "plt.ylim(0,14)\n",
    "plt.xlim(0,0.005)\n",
    "plt.ylabel('pH')\n",
    "plt.xlabel('Na')\n",
    "plt.show()\n",
    "plt.show()"
   ]
  },
  {
   "cell_type": "code",
   "execution_count": null,
   "metadata": {},
   "outputs": [],
   "source": [
    "phos = Acid(pKa=[2.148, 7.198, 12.319], charge=0, conc=0.01)\n",
    "phs = np.linspace(0, 14, 1000)\n",
    "fracs = phos.alpha(phs)\n",
    "plt.plot(phs, fracs, lw=3)\n",
    "plt.grid(lw=0.2)\n",
    "plt.ylim(0,1)\n",
    "plt.xlim(0,14)\n",
    "plt.ylabel('Alpha')\n",
    "plt.xlabel('pH')\n",
    "plt.show()\n"
   ]
  },
  {
   "cell_type": "code",
   "execution_count": null,
   "metadata": {
    "collapsed": true
   },
   "outputs": [],
   "source": []
  }
 ],
 "metadata": {
  "anaconda-cloud": {},
  "kernelspec": {
   "display_name": "Python [conda root]",
   "language": "python",
   "name": "conda-root-py"
  },
  "language_info": {
   "codemirror_mode": {
    "name": "ipython",
    "version": 3
   },
   "file_extension": ".py",
   "mimetype": "text/x-python",
   "name": "python",
   "nbconvert_exporter": "python",
   "pygments_lexer": "ipython3",
   "version": "3.5.2"
  }
 },
 "nbformat": 4,
 "nbformat_minor": 1
}
