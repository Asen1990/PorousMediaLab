{
 "cells": [
  {
   "cell_type": "code",
   "execution_count": 141,
   "metadata": {
    "collapsed": true
   },
   "outputs": [],
   "source": [
    "import matplotlib.pyplot as plt\n",
    "import sys\n",
    "sys.path.append('../src')\n",
    "from PorousMediaLab import PorousMediaLab\n",
    "import numpy as np\n",
    "%matplotlib inline"
   ]
  },
  {
   "cell_type": "code",
   "execution_count": 142,
   "metadata": {
    "collapsed": true
   },
   "outputs": [],
   "source": [
    "tend = 10 ## hours\n",
    "dt = 0.01\n",
    "dx = 0.1 ## cm\n",
    "L = 10 ## cm\n",
    "x = np.linspace(0, L, L / dx + 1)\n",
    "t = np.linspace(0, tend, round(tend / dt) + 1)\n",
    "phi =  ( 0.98 - 0.8 ) * np.exp( -x / 1 ) + 0.8"
   ]
  },
  {
   "cell_type": "code",
   "execution_count": 143,
   "metadata": {
    "collapsed": false
   },
   "outputs": [
    {
     "data": {
      "text/plain": [
       "[<matplotlib.lines.Line2D at 0x118dc5978>]"
      ]
     },
     "execution_count": 143,
     "metadata": {},
     "output_type": "execute_result"
    },
    {
     "data": {
      "image/png": "[encoded data removed]",
      "text/plain": [
       "<matplotlib.figure.Figure at 0x1182e8e48>"
      ]
     },
     "metadata": {},
     "output_type": "display_data"
    }
   ],
   "source": [
    "plt.plot(phi)"
   ]
  },
  {
   "cell_type": "code",
   "execution_count": 144,
   "metadata": {
    "collapsed": true
   },
   "outputs": [],
   "source": [
    "ftc = PorousMediaLab(L, dx, tend, dt, phi, w=0)"
   ]
  },
  {
   "cell_type": "code",
   "execution_count": 145,
   "metadata": {
    "collapsed": false,
    "scrolled": false
   },
   "outputs": [],
   "source": [
    "# C_init=0.0000001/phi/3\n",
    "# ftc.add_species(is_solute=True, element='H2CO3', D=1e-5*60*60, init_C=C_init, bc_top=-1e-7, bc_top_type='flux', bc_bot=1e-7, bc_bot_type='flux')\n",
    "# ftc.add_species(is_solute=True, element='HCO3', D=1e-5*60*60, init_C=C_init, bc_top=-1e-7, bc_top_type='flux', bc_bot=1e-7, bc_bot_type='flux')\n",
    "# ftc.add_species(is_solute=True, element='CO3', D=1e-5*60*60, init_C=C_init, bc_top=-1e-7, bc_top_type='flux', bc_bot=1e-7, bc_bot_type='flux')\n",
    "# ftc.add_acid(species=['H2CO3', 'HCO3', 'CO3'], pKa=[3.6, 10.32])\n",
    "\n",
    "# ftc.add_species(is_solute=True, element='H3PO4', D=1e-5*60*60, init_C=C_init, bc_top=0.01, bc_top_type='dirichlet', bc_bot=0.001, bc_bot_type='flux')\n",
    "# ftc.add_species(is_solute=True, element='H2PO4', D=1e-5*60*60, init_C=C_init, bc_top=0.01, bc_top_type='dirichlet', bc_bot=0.001, bc_bot_type='flux')\n",
    "# ftc.add_species(is_solute=True, element='HPO4', D=1e-5*60*60, init_C=C_init, bc_top=0.01, bc_top_type='dirichlet', bc_bot=0.001, bc_bot_type='flux')\n",
    "# ftc.add_species(is_solute=True, element='PO4', D=1e-5*60*60, init_C=C_init, bc_top=0.01, bc_top_type='dirichlet', bc_bot=0.001, bc_bot_type='flux')\n",
    "\n",
    "\n",
    "ftc.add_species(is_solute=True, element='Ca', D=40, init_C=1, bc_top=0., bc_top_type='flux', bc_bot=0., bc_bot_type='flux')\n",
    "# ftc.add_species(is_solute=False, element='CaCO3', D=1e-16, init_C=0.1, bc_top=0.0, bc_top_type='flux', bc_bot=0.00, bc_bot_type='flux')\n",
    "\n",
    "\n",
    "# ftc.add_acid(species=['H3PO4', 'H2PO4', 'HPO4', 'PO4'], pKa=[2.148, 7.198, 12.319])\n",
    "# ftc.add_ion(element='Ca', charge=2)"
   ]
  },
  {
   "cell_type": "code",
   "execution_count": 146,
   "metadata": {
    "collapsed": true
   },
   "outputs": [],
   "source": [
    "# ftc.constants['Ks'] = 5e-9\n",
    "# ftc.constants['k_dis'] = 1e-3\n",
    "# ftc.constants['k_pre'] = 1e-3\n",
    "# ftc.constants['CF'] = (1-phi)/phi  ### conversion factor"
   ]
  },
  {
   "cell_type": "code",
   "execution_count": 147,
   "metadata": {
    "collapsed": true
   },
   "outputs": [],
   "source": [
    "# ftc.rates['R_dis'] = 'k_dis * CaCO3 * (Ca*CO3/Ks < 1)'\n",
    "# ftc.rates['R_pre'] = 'k_pre * Ca * (Ca*CO3/Ks > 1)'"
   ]
  },
  {
   "cell_type": "code",
   "execution_count": 148,
   "metadata": {
    "collapsed": true
   },
   "outputs": [],
   "source": [
    "# ftc.dcdt['CaCO3'] = '-R_dis/CF + R_pre/CF'\n",
    "# ftc.dcdt['Ca'] = 'R_dis*CF - R_pre*CF'\n",
    "# ftc.dcdt['CO3'] = 'R_dis*CF - R_pre*CF'"
   ]
  },
  {
   "cell_type": "code",
   "execution_count": 149,
   "metadata": {
    "collapsed": false,
    "scrolled": false
   },
   "outputs": [
    {
     "name": "stdout",
     "output_type": "stream",
     "text": [
      "Simulation starts  with following params:\n",
      "\ttend = 10.0,\n",
      "\tdt = 1.00e-02,\n",
      "\tL = 10.0,\n",
      "\tdx = 1.00e-01,\n",
      "\tw = 1.00\n",
      "Simulation started:\n",
      "\t 2017-08-15 01:12:16\n",
      "\n",
      "\n",
      "Estimated time of the code execution:\n",
      "\t 0h:00m:00s\n",
      "Will finish approx.:\n",
      "\t 2017-08-15 01:12:17\n"
     ]
    }
   ],
   "source": [
    "# %%timeit\n",
    "ftc.solve()"
   ]
  },
  {
   "cell_type": "code",
   "execution_count": 150,
   "metadata": {
    "collapsed": false,
    "scrolled": false
   },
   "outputs": [
    {
     "data": {
      "image/png": "[encoded data removed]",
      "text/plain": [
       "<matplotlib.figure.Figure at 0x118de4518>"
      ]
     },
     "metadata": {},
     "output_type": "display_data"
    }
   ],
   "source": [
    "ftc.plot_contourplots(labels=False)"
   ]
  },
  {
   "cell_type": "code",
   "execution_count": 151,
   "metadata": {
    "collapsed": false,
    "scrolled": false
   },
   "outputs": [
    {
     "data": {
      "image/png": "[encoded data removed]",
      "text/plain": [
       "<matplotlib.figure.Figure at 0x118c7c550>"
      ]
     },
     "metadata": {},
     "output_type": "display_data"
    }
   ],
   "source": [
    "ftc.plot_profiles()"
   ]
  },
  {
   "cell_type": "code",
   "execution_count": 152,
   "metadata": {
    "collapsed": false
   },
   "outputs": [
    {
     "data": {
      "text/plain": [
       "array([ 0.11697539,  0.11935075,  0.121596  ,  0.12371343,  0.12570619,\n",
       "        0.12757813,  0.12933359,  0.13097734,  0.13251444,  0.1339501 ,\n",
       "        0.13528962,  0.13653833,  0.13770148,  0.13878421,  0.13979151,\n",
       "        0.1407282 ,  0.14159888,  0.14240793,  0.14315948,  0.14385746,\n",
       "        0.14450551,  0.14510709,  0.14566538,  0.14618336,  0.1466638 ,\n",
       "        0.14710925,  0.14752207,  0.14790444,  0.14825837,  0.14858571,\n",
       "        0.14888815,  0.14916724,  0.14942441,  0.14966097,  0.14987812,\n",
       "        0.15007693,  0.15025842,  0.15042349,  0.15057298,  0.15070764,\n",
       "        0.15082818,  0.15093523,  0.15102936,  0.1511111 ,  0.15118093,\n",
       "        0.15123929,  0.15128659,  0.15132318,  0.1513494 ,  0.15136556,\n",
       "        0.15137194,  0.15136879,  0.15135634,  0.15133481,  0.1513044 ,\n",
       "        0.15126528,  0.15121762,  0.15116157,  0.15109728,  0.15102486,\n",
       "        0.15094445,  0.15085615,  0.15076007,  0.15065629,  0.15054491,\n",
       "        0.15042601,  0.15029967,  0.15016596,  0.15002495,  0.1498767 ,\n",
       "        0.14972128,  0.14955873,  0.14938912,  0.1492125 ,  0.14902892,\n",
       "        0.14883843,  0.14864106,  0.14843687,  0.14822591,  0.1480082 ,\n",
       "        0.14778379,  0.14755272,  0.14731503,  0.14707076,  0.14681994,\n",
       "        0.14656262,  0.14629881,  0.14602857,  0.14575193,  0.14546891,\n",
       "        0.14517956,  0.14488391,  0.14458199,  0.14427384,  0.14395949,\n",
       "        0.14363897,  0.14331232,  0.14297957,  0.14264075,  0.1422959 ,\n",
       "        0.14194505])"
      ]
     },
     "execution_count": 152,
     "metadata": {},
     "output_type": "execute_result"
    }
   ],
   "source": [
    "ftc.profiles.Ca"
   ]
  },
  {
   "cell_type": "code",
   "execution_count": 153,
   "metadata": {
    "collapsed": false
   },
   "outputs": [
    {
     "name": "stdout",
     "output_type": "stream",
     "text": [
      "6.79108200073\n"
     ]
    }
   ],
   "source": [
    ">>> from pHcalc import Acid, Neutral, System\n",
    ">>> carbonic = Acid(pKa=[3.6, 10.32], charge=0, conc=0.0000001)\n",
    ">>> system = System(carbonic)\n",
    ">>> system.pHsolve()\n",
    ">>> print(system.pH) # Should print 2.8343772"
   ]
  },
  {
   "cell_type": "code",
   "execution_count": 154,
   "metadata": {
    "collapsed": false
   },
   "outputs": [
    {
     "data": {
      "text/plain": [
       "array([[1, 2, 0, 0],\n",
       "       [1, 2, 3, 0],\n",
       "       [0, 2, 3, 4],\n",
       "       [0, 0, 3, 4]])"
      ]
     },
     "execution_count": 154,
     "metadata": {},
     "output_type": "execute_result"
    }
   ],
   "source": [
    ">>> from scipy.sparse import spdiags\n",
    ">>> data = np.array([[1, 2, 3, 4], [1, 2, 3, 4], [1, 2, 3, 4]])\n",
    ">>> diags = np.array([-1, 0, 1])\n",
    ">>> spdiags(data, diags, 4, 4).toarray()"
   ]
  },
  {
   "cell_type": "code",
   "execution_count": null,
   "metadata": {
    "collapsed": true
   },
   "outputs": [],
   "source": []
  }
 ],
 "metadata": {
  "anaconda-cloud": {},
  "kernelspec": {
   "display_name": "Python [conda root]",
   "language": "python",
   "name": "conda-root-py"
  },
  "language_info": {
   "codemirror_mode": {
    "name": "ipython",
    "version": 3
   },
   "file_extension": ".py",
   "mimetype": "text/x-python",
   "name": "python",
   "nbconvert_exporter": "python",
   "pygments_lexer": "ipython3",
   "version": "3.5.3"
  }
 },
 "nbformat": 4,
 "nbformat_minor": 1
}
