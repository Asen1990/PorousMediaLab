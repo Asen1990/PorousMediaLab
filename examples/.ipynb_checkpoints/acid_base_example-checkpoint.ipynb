{
 "cells": [
  {
   "cell_type": "code",
   "execution_count": 56,
   "metadata": {
    "collapsed": false
   },
   "outputs": [],
   "source": [
    "import matplotlib.pyplot as plt\n",
    "import sys\n",
    "sys.path.append('../src')\n",
    "from PorousMediaLab import PorousMediaLab\n",
    "import numpy as np\n",
    "%matplotlib inline"
   ]
  },
  {
   "cell_type": "code",
   "execution_count": 57,
   "metadata": {
    "collapsed": false
   },
   "outputs": [],
   "source": [
    "tend = 24 ## hours\n",
    "dt = 1\n",
    "dx = 0.5 ## cm\n",
    "L = 40 ## cm\n",
    "x = np.linspace(0, L, L / dx + 1)\n",
    "t = np.linspace(0, tend, round(tend / dt) + 1)\n",
    "phi = ( 0.98 - 0.7 ) * np.exp( -x / 20 ) + 0.7"
   ]
  },
  {
   "cell_type": "code",
   "execution_count": 58,
   "metadata": {
    "collapsed": true
   },
   "outputs": [],
   "source": [
    "from pHcalc.pHcalc import Acid, Neutral, System"
   ]
  },
  {
   "cell_type": "code",
   "execution_count": 59,
   "metadata": {
    "collapsed": false
   },
   "outputs": [],
   "source": [
    "# def test():\n",
    "g=7\n",
    "for i in range(200):\n",
    "    system = System()\n",
    "    carbonic = [Acid(pKa=[3.6, 10.32], charge=0, conc=0.01), Acid(pKa=[3.6, 10.32], charge=0, conc=0.1)]\n",
    "    system = System(*carbonic)\n",
    "    system.pHsolve(guess=g, tol=1e-1)\n",
    "    g = system.pH \n",
    "    #     print(system.pH) # Should print 2.8343772"
   ]
  },
  {
   "cell_type": "code",
   "execution_count": 60,
   "metadata": {
    "collapsed": false
   },
   "outputs": [
    {
     "data": {
      "text/plain": [
       "2.2749999999999977"
      ]
     },
     "execution_count": 60,
     "metadata": {},
     "output_type": "execute_result"
    }
   ],
   "source": [
    "g"
   ]
  },
  {
   "cell_type": "code",
   "execution_count": 61,
   "metadata": {
    "collapsed": false
   },
   "outputs": [],
   "source": [
    "ftc = PorousMediaLab(L, dx, tend, dt, phi)"
   ]
  },
  {
   "cell_type": "code",
   "execution_count": null,
   "metadata": {
    "collapsed": false,
    "scrolled": false
   },
   "outputs": [],
   "source": [
    "C_init=0.01\n",
    "ftc.add_species(is_solute=True, element='H2CO3', D=1e-5*60*60, init_C=C_init, bc_top=0., bc_top_type='dirichlet', bc_bot=0, bc_bot_type='flux')\n",
    "ftc.add_species(is_solute=True, element='HCO3', D=1e-5*60*60, init_C=C_init, bc_top=0., bc_top_type='dirichlet', bc_bot=0, bc_bot_type='flux')\n",
    "ftc.add_species(is_solute=True, element='CO3', D=1e-5*60*60, init_C=C_init, bc_top=0., bc_top_type='dirichlet', bc_bot=0, bc_bot_type='flux')\n",
    "ftc.add_acid_base_equilibrium(species=['H2CO3', 'HCO3', 'CO3'], pKa=[3.6, 10.32])"
   ]
  },
  {
   "cell_type": "code",
   "execution_count": null,
   "metadata": {
    "collapsed": false
   },
   "outputs": [],
   "source": [
    "for i in range(1, len(ftc.time)):\n",
    "    ftc.integrate_one_timestep(i)"
   ]
  },
  {
   "cell_type": "code",
   "execution_count": null,
   "metadata": {
    "collapsed": false
   },
   "outputs": [],
   "source": [
    "ftc.plot_contourplots(labels=False)"
   ]
  },
  {
   "cell_type": "code",
   "execution_count": null,
   "metadata": {
    "collapsed": false
   },
   "outputs": [],
   "source": [
    "ftc.plot_profiles()"
   ]
  }
 ],
 "metadata": {
  "anaconda-cloud": {},
  "kernelspec": {
   "display_name": "Python [conda root]",
   "language": "python",
   "name": "conda-root-py"
  },
  "language_info": {
   "codemirror_mode": {
    "name": "ipython",
    "version": 3
   },
   "file_extension": ".py",
   "mimetype": "text/x-python",
   "name": "python",
   "nbconvert_exporter": "python",
   "pygments_lexer": "ipython3",
   "version": "3.5.3"
  }
 },
 "nbformat": 4,
 "nbformat_minor": 1
}
