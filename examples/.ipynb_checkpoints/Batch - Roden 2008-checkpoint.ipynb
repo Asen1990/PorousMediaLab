{
 "cells": [
  {
   "cell_type": "code",
   "execution_count": null,
   "metadata": {
    "collapsed": true
   },
   "outputs": [],
   "source": [
    "import matplotlib.pyplot as plt\n",
    "import sys\n",
    "sys.path.append('../src')\n",
    "from BatchLab import BatchLab\n",
    "import numpy as np\n",
    "%matplotlib inline"
   ]
  },
  {
   "cell_type": "code",
   "execution_count": null,
   "metadata": {
    "collapsed": true
   },
   "outputs": [],
   "source": [
    "tend = 470 * 24 * 60 * 60  #470 * 24 * 60 * 60 \n",
    "dt = 1/5 * 60"
   ]
  },
  {
   "cell_type": "code",
   "execution_count": null,
   "metadata": {
    "collapsed": true
   },
   "outputs": [],
   "source": [
    "bl = BatchLab(tend, dt)"
   ]
  },
  {
   "cell_type": "code",
   "execution_count": null,
   "metadata": {
    "collapsed": true
   },
   "outputs": [],
   "source": []
  },
  {
   "cell_type": "code",
   "execution_count": null,
   "metadata": {
    "collapsed": true
   },
   "outputs": [],
   "source": [
    "# Bacteria:\n",
    "bl.add_species(element='X_F', init_C=5e-4)\n",
    "bl.add_species(element='X_N', init_C=1e-4)\n",
    "bl.add_species(element='X_I', init_C=2e-5)\n",
    "bl.add_species(element='X_S', init_C=2.5e-7)\n",
    "bl.add_species(element='X_M', init_C=5e-9)\n",
    "\n",
    "# ED\n",
    "bl.add_species(element='C6H6O', init_C=10e-4)\n",
    "bl.add_species(element='CH3COO', init_C=0)\n",
    "bl.add_species(element='H2', init_C=0)\n",
    "bl.add_species(element='TIC', init_C=2e-4)\n",
    "\n",
    "k_fe = 0.15\n",
    "k_mn = 0.15\n",
    "\n",
    "# # EA\n",
    "bl.add_species(element='NO3', init_C=2.9e-4)\n",
    "bl.add_species(element='MNO2', init_C=4e-4 * k_mn)  # 50%)\n",
    "bl.add_species(element='FEOOH', init_C=5e-3 * k_fe)  # 50%)\n",
    "bl.add_species(element='SO4', init_C=7.6e-4)\n",
    "bl.add_species(element='FEOOH_LR', init_C=5e-3 * (1 - k_fe))  # 50%)\n",
    "bl.add_species(element='MNO2_LR', init_C=4e-4 * (1 - k_mn))  # 50%)\n",
    "\n",
    "# # Reduced species:\n",
    "bl.add_species(element='FE2', init_C=0)\n",
    "bl.add_species(element='MN2', init_C=0)\n",
    "bl.add_species(element='N2', init_C=0)\n",
    "bl.add_species(element='H', init_C=0)\n",
    "bl.add_species(element='HS', init_C=0)\n",
    "bl.add_species(element='CH4', init_C=0)\n",
    "\n",
    "\n",
    "# bl.add_species(element='Tracer', init_C=1)"
   ]
  },
  {
   "cell_type": "code",
   "execution_count": null,
   "metadata": {
    "collapsed": true
   },
   "outputs": [],
   "source": []
  },
  {
   "cell_type": "code",
   "execution_count": null,
   "metadata": {
    "collapsed": true
   },
   "outputs": [],
   "source": [
    "# Half-saturation constants\n",
    "bl.constants['K_M_C6H6O'] = 1.1e-4\n",
    "bl.constants['K_M_CH3COO_N'] = 5e-4\n",
    "bl.constants['K_M_CH3COO_MN'] = 5e-4\n",
    "bl.constants['K_M_CH3COO_FE'] = 5e-4\n",
    "bl.constants['K_M_CH3COO_S'] = 1e-4\n",
    "bl.constants['K_M_CH3COO_TIC'] = 5e-4\n",
    "bl.constants['K_M_NO3'] = 8.1e-6\n",
    "bl.constants['K_M_SO4'] = 1.6e-4\n",
    "bl.constants['K_M_H2_N'] = 1e-7\n",
    "bl.constants['K_M_H2_MN'] = 5e-7\n",
    "bl.constants['K_M_H2_FE'] = 5e-7\n",
    "bl.constants['K_M_H2_S'] = 1e-6\n",
    "bl.constants['K_M_H2_CH4'] = 5e-6"
   ]
  },
  {
   "cell_type": "code",
   "execution_count": null,
   "metadata": {
    "collapsed": true
   },
   "outputs": [],
   "source": [
    "# inhibition terms"
   ]
  },
  {
   "cell_type": "code",
   "execution_count": null,
   "metadata": {
    "collapsed": true
   },
   "outputs": [],
   "source": [
    "bl.constants['K_I_AC_NO3'] = 1.6e-5\n",
    "bl.constants['K_I_AC_SO4'] = 1.6e-5\n",
    "bl.constants['K_I_FEOOH_LR'] = 1e-6\n",
    "bl.constants['K_I_FEOOH_MR_SO4'] = 1e-6  # changed from  1e-12\n",
    "bl.constants['K_I_FEOOH_MR_MN'] = 1e-7  # changed from 1e-13\n",
    "bl.constants['K_I_FEOOH_MR_FE'] = 1e-7\n",
    "bl.constants['K_I_SO4_MN'] = 1e-5\n",
    "bl.constants['K_I_SO4_FE'] = 1e-5"
   ]
  },
  {
   "cell_type": "code",
   "execution_count": null,
   "metadata": {
    "collapsed": true
   },
   "outputs": [],
   "source": [
    "# rate constants"
   ]
  },
  {
   "cell_type": "code",
   "execution_count": null,
   "metadata": {
    "collapsed": true
   },
   "outputs": [],
   "source": [
    "bl.constants['K_MAX_F'] = 3.8e-8\n",
    "bl.constants['K_AC_MAX_N'] = 2e-5\n",
    "bl.constants['K_AC_MAX_MN'] = 9e-8\n",
    "bl.constants['K_AC_MAX_FE'] = 4.1e-7\n",
    "bl.constants['K_AC_MAX_S'] = 1e-5\n",
    "bl.constants['K_AC_MAX_CH4'] = 8e-7\n",
    "bl.constants['K_H2_MAX_N'] = 1e-7\n",
    "bl.constants['K_H2_MAX_MN'] = 1.1e-8\n",
    "bl.constants['K_H2_MAX_FE'] = 5e-8\n",
    "bl.constants['K_H2_MAX_S'] = 9e-8\n",
    "bl.constants['K_H2_MAX_CH4'] = 1e-7"
   ]
  },
  {
   "cell_type": "code",
   "execution_count": null,
   "metadata": {
    "collapsed": true
   },
   "outputs": [],
   "source": []
  },
  {
   "cell_type": "code",
   "execution_count": null,
   "metadata": {
    "collapsed": true
   },
   "outputs": [],
   "source": [
    "bl.rates['r_ferm'] = 'K_MAX_F * X_F * C6H6O / (K_M_C6H6O + C6H6O)'\n",
    "bl.rates['r_a1'] = 'K_AC_MAX_N * X_N * CH3COO / (CH3COO + K_M_CH3COO_N) * NO3 / (NO3 + K_M_NO3)'\n",
    "bl.rates['r_a2'] = 'K_AC_MAX_MN * X_I * CH3COO / (CH3COO + K_M_CH3COO_MN) * K_I_AC_NO3 / (NO3 + K_I_AC_NO3)'\n",
    "bl.rates['r_a3'] = 'K_AC_MAX_FE * X_I * CH3COO / (CH3COO + K_M_CH3COO_FE) * K_I_AC_NO3 / (NO3 + K_I_AC_NO3)'\n",
    "bl.rates['r_a4'] = 'K_AC_MAX_S * X_S * CH3COO / (CH3COO + K_M_CH3COO_S) * SO4 / (SO4 + K_M_SO4) * K_I_AC_NO3 / (NO3 + K_I_AC_NO3)'\n",
    "bl.rates['r_a5'] = 'K_AC_MAX_CH4 * X_M * CH3COO / (CH3COO + K_M_CH3COO_TIC) * K_I_AC_NO3 / (NO3 + K_I_AC_NO3) * K_I_AC_SO4 / (SO4 + K_I_AC_SO4)'\n",
    "bl.rates['r_h1'] = 'K_H2_MAX_N * H2 / (H2 + K_M_H2_N) * NO3 / (NO3 + K_M_NO3)'\n",
    "bl.rates['r_h2'] = 'K_H2_MAX_MN * H2 / (H2 + K_M_H2_MN)'\n",
    "bl.rates['r_h3'] = 'K_H2_MAX_FE * H2 / (H2 + K_M_H2_FE)'\n",
    "bl.rates['r_h4'] = 'K_H2_MAX_S * H2 / (H2 + K_M_H2_S) * SO4 / (SO4 + K_M_SO4) * K_I_FEOOH_MR_SO4 / (K_I_FEOOH_MR_SO4 + FEOOH)'\n",
    "bl.rates['r_h2b'] = 'K_H2_MAX_MN * H2 / (H2 + K_M_H2_MN) * K_I_FEOOH_MR_MN / (K_I_FEOOH_MR_MN + FEOOH) * K_I_SO4_MN / (K_I_SO4_MN + SO4)'\n",
    "bl.rates['r_h3b'] = 'K_H2_MAX_FE * H2 / (H2 + K_M_H2_FE) * K_I_FEOOH_MR_FE / (K_I_FEOOH_MR_FE + FEOOH) * K_I_SO4_FE / (K_I_SO4_FE + SO4)'\n",
    "bl.rates['r_h5'] = 'K_H2_MAX_CH4 * H2 / (H2 + K_M_H2_CH4) * K_I_FEOOH_LR / (K_I_FEOOH_LR + FEOOH_LR)'\n",
    "# bl.rates['r_t'] = 'Tracer'"
   ]
  },
  {
   "cell_type": "code",
   "execution_count": null,
   "metadata": {
    "collapsed": true
   },
   "outputs": [],
   "source": []
  },
  {
   "cell_type": "code",
   "execution_count": null,
   "metadata": {
    "collapsed": true
   },
   "outputs": [],
   "source": [
    "bl.dcdt['X_F'] = '1.2 * r_ferm'\n",
    "bl.dcdt['X_N'] = '0.4 * r_a1'\n",
    "bl.dcdt['X_I'] = '1.2 * r_a2 + 1.2 * r_a3'\n",
    "bl.dcdt['X_S'] = '0.1 * r_a4'\n",
    "bl.dcdt['C6H6O'] = '-r_ferm'\n",
    "bl.dcdt['CH3COO'] = '2.4 * r_ferm - r_a1 - r_a2 - r_a3 - r_a4 - r_a5'\n",
    "bl.dcdt['H2'] = '2 * r_ferm - r_h1 - r_h2 - r_h2b - r_h3 - r_h3b - r_h4 - r_h5'\n",
    "bl.dcdt['TIC'] = '1.6 * r_a1 + 0.8 * r_a2 + 0.8 * r_a3 + 1.9 * r_a4 + 0.6 * r_a5 - 0.25 * r_h5'\n",
    "bl.dcdt['NO3'] = '- 1.28 * r_a1 - 0.4 * r_h1'\n",
    "bl.dcdt['MNO2'] = '- r_h2'\n",
    "bl.dcdt['FEOOH'] = '- 2 * r_h3'\n",
    "bl.dcdt['SO4'] = '-0.95 * r_a4 - 0.25 * r_h4'\n",
    "bl.dcdt['FE2'] = '3.2 * r_a3 + 2 * r_h3 + 2 * r_h3b'\n",
    "bl.dcdt['MN2'] = '1.6 * r_a2 + r_h2 + r_h2b'\n",
    "bl.dcdt['N2'] = '0.64 * r_a1 + 0.2 * r_h1'\n",
    "bl.dcdt['H'] = '0'\n",
    "bl.dcdt['HS'] = '0.95 * r_a4 + 0.25 * r_h4'\n",
    "bl.dcdt['CH4'] = '0.6 * r_a5 + 0.25 * r_h5'\n",
    "bl.dcdt['X_M'] = '0.8 * r_a5'\n",
    "bl.dcdt['FEOOH_LR']  ='- r_h3b - 3.2 * r_a3'\n",
    "bl.dcdt['MNO2_LR']  ='- r_h2b - 1.6 * r_a2'\n",
    "# bl.dcdt['Tracer']  ='- 1e-5 * r_t'"
   ]
  },
  {
   "cell_type": "code",
   "execution_count": null,
   "metadata": {},
   "outputs": [],
   "source": [
    "bl.solve()"
   ]
  },
  {
   "cell_type": "code",
   "execution_count": null,
   "metadata": {
    "scrolled": false
   },
   "outputs": [],
   "source": [
    "bl.plot_profiles(time_coef=1/24/60/60)"
   ]
  },
  {
   "cell_type": "code",
   "execution_count": null,
   "metadata": {
    "scrolled": false
   },
   "outputs": [],
   "source": [
    "bl.plot_rates()"
   ]
  },
  {
   "cell_type": "code",
   "execution_count": null,
   "metadata": {},
   "outputs": [],
   "source": [
    "plt.plot(bl.species['H2']['concentration'][0])"
   ]
  },
  {
   "cell_type": "code",
   "execution_count": null,
   "metadata": {
    "collapsed": true
   },
   "outputs": [],
   "source": []
  }
 ],
 "metadata": {
  "anaconda-cloud": {},
  "kernelspec": {
   "display_name": "Python [conda root]",
   "language": "python",
   "name": "conda-root-py"
  },
  "language_info": {
   "codemirror_mode": {
    "name": "ipython",
    "version": 3
   },
   "file_extension": ".py",
   "mimetype": "text/x-python",
   "name": "python",
   "nbconvert_exporter": "python",
   "pygments_lexer": "ipython3",
   "version": "3.5.2"
  }
 },
 "nbformat": 4,
 "nbformat_minor": 1
}
