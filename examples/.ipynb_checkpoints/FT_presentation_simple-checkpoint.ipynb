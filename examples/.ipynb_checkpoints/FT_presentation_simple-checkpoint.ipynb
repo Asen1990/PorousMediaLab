{
 "cells": [
  {
   "cell_type": "markdown",
   "metadata": {},
   "source": [
    "#### Import libraries:"
   ]
  },
  {
   "cell_type": "code",
   "execution_count": 13,
   "metadata": {
    "collapsed": false
   },
   "outputs": [],
   "source": [
    "import matplotlib.pyplot as plt\n",
    "import sys\n",
    "sys.path.append('../porousmedialab')\n",
    "# from PorousMediaLab \n",
    "import PorousMediaLab\n",
    "import numpy as np\n",
    "%matplotlib inline"
   ]
  },
  {
   "cell_type": "code",
   "execution_count": 14,
   "metadata": {
    "collapsed": false,
    "scrolled": true
   },
   "outputs": [
    {
     "name": "stdout",
     "output_type": "stream",
     "text": [
      "Help on module PorousMediaLab:\n",
      "\n",
      "NAME\n",
      "    PorousMediaLab\n",
      "\n",
      "CLASSES\n",
      "    builtins.dict(builtins.object)\n",
      "        DotDict\n",
      "    builtins.object\n",
      "        PorousMediaLab\n",
      "    \n",
      "    class DotDict(builtins.dict)\n",
      "     |  dot.notation access to dictionary attributes\n",
      "     |  \n",
      "     |  Method resolution order:\n",
      "     |      DotDict\n",
      "     |      builtins.dict\n",
      "     |      builtins.object\n",
      "     |  \n",
      "     |  Methods defined here:\n",
      "     |  \n",
      "     |  __delattr__ = __delitem__(self, key, /)\n",
      "     |      Delete self[key].\n",
      "     |  \n",
      "     |  __getattr__ = get(...)\n",
      "     |      D.get(k[,d]) -> D[k] if k in D, else d.  d defaults to None.\n",
      "     |  \n",
      "     |  __setattr__ = __setitem__(self, key, value, /)\n",
      "     |      Set self[key] to value.\n",
      "     |  \n",
      "     |  ----------------------------------------------------------------------\n",
      "     |  Data descriptors defined here:\n",
      "     |  \n",
      "     |  __dict__\n",
      "     |      dictionary for instance variables (if defined)\n",
      "     |  \n",
      "     |  __weakref__\n",
      "     |      list of weak references to the object (if defined)\n",
      "     |  \n",
      "     |  ----------------------------------------------------------------------\n",
      "     |  Methods inherited from builtins.dict:\n",
      "     |  \n",
      "     |  __contains__(self, key, /)\n",
      "     |      True if D has a key k, else False.\n",
      "     |  \n",
      "     |  __delitem__(self, key, /)\n",
      "     |      Delete self[key].\n",
      "     |  \n",
      "     |  __eq__(self, value, /)\n",
      "     |      Return self==value.\n",
      "     |  \n",
      "     |  __ge__(self, value, /)\n",
      "     |      Return self>=value.\n",
      "     |  \n",
      "     |  __getattribute__(self, name, /)\n",
      "     |      Return getattr(self, name).\n",
      "     |  \n",
      "     |  __getitem__(...)\n",
      "     |      x.__getitem__(y) <==> x[y]\n",
      "     |  \n",
      "     |  __gt__(self, value, /)\n",
      "     |      Return self>value.\n",
      "     |  \n",
      "     |  __init__(self, /, *args, **kwargs)\n",
      "     |      Initialize self.  See help(type(self)) for accurate signature.\n",
      "     |  \n",
      "     |  __iter__(self, /)\n",
      "     |      Implement iter(self).\n",
      "     |  \n",
      "     |  __le__(self, value, /)\n",
      "     |      Return self<=value.\n",
      "     |  \n",
      "     |  __len__(self, /)\n",
      "     |      Return len(self).\n",
      "     |  \n",
      "     |  __lt__(self, value, /)\n",
      "     |      Return self<value.\n",
      "     |  \n",
      "     |  __ne__(self, value, /)\n",
      "     |      Return self!=value.\n",
      "     |  \n",
      "     |  __new__(*args, **kwargs) from builtins.type\n",
      "     |      Create and return a new object.  See help(type) for accurate signature.\n",
      "     |  \n",
      "     |  __repr__(self, /)\n",
      "     |      Return repr(self).\n",
      "     |  \n",
      "     |  __setitem__(self, key, value, /)\n",
      "     |      Set self[key] to value.\n",
      "     |  \n",
      "     |  __sizeof__(...)\n",
      "     |      D.__sizeof__() -> size of D in memory, in bytes\n",
      "     |  \n",
      "     |  clear(...)\n",
      "     |      D.clear() -> None.  Remove all items from D.\n",
      "     |  \n",
      "     |  copy(...)\n",
      "     |      D.copy() -> a shallow copy of D\n",
      "     |  \n",
      "     |  fromkeys(iterable, value=None, /) from builtins.type\n",
      "     |      Returns a new dict with keys from iterable and values equal to value.\n",
      "     |  \n",
      "     |  get(...)\n",
      "     |      D.get(k[,d]) -> D[k] if k in D, else d.  d defaults to None.\n",
      "     |  \n",
      "     |  items(...)\n",
      "     |      D.items() -> a set-like object providing a view on D's items\n",
      "     |  \n",
      "     |  keys(...)\n",
      "     |      D.keys() -> a set-like object providing a view on D's keys\n",
      "     |  \n",
      "     |  pop(...)\n",
      "     |      D.pop(k[,d]) -> v, remove specified key and return the corresponding value.\n",
      "     |      If key is not found, d is returned if given, otherwise KeyError is raised\n",
      "     |  \n",
      "     |  popitem(...)\n",
      "     |      D.popitem() -> (k, v), remove and return some (key, value) pair as a\n",
      "     |      2-tuple; but raise KeyError if D is empty.\n",
      "     |  \n",
      "     |  setdefault(...)\n",
      "     |      D.setdefault(k[,d]) -> D.get(k,d), also set D[k]=d if k not in D\n",
      "     |  \n",
      "     |  update(...)\n",
      "     |      D.update([E, ]**F) -> None.  Update D from dict/iterable E and F.\n",
      "     |      If E is present and has a .keys() method, then does:  for k in E: D[k] = E[k]\n",
      "     |      If E is present and lacks a .keys() method, then does:  for k, v in E: D[k] = v\n",
      "     |      In either case, this is followed by: for k in F:  D[k] = F[k]\n",
      "     |  \n",
      "     |  values(...)\n",
      "     |      D.values() -> an object providing a view on D's values\n",
      "     |  \n",
      "     |  ----------------------------------------------------------------------\n",
      "     |  Data and other attributes inherited from builtins.dict:\n",
      "     |  \n",
      "     |  __hash__ = None\n",
      "    \n",
      "    class PorousMediaLab(builtins.object)\n",
      "     |  PorousMediaLab module solves Advection-Diffusion-Reaction Equation in porous media\n",
      "     |  \n",
      "     |  Methods defined here:\n",
      "     |  \n",
      "     |  __getattr__(self, attr)\n",
      "     |  \n",
      "     |  __init__(self, length, dx, tend, dt, phi, w=0)\n",
      "     |  \n",
      "     |  add_solid_species(self, element, init_C)\n",
      "     |  \n",
      "     |  add_solute_species(self, element, D, init_C)\n",
      "     |  \n",
      "     |  add_species(self, is_solute, element, D, init_C, bc_top, bc_top_type, bc_bot, bc_bot_type)\n",
      "     |  \n",
      "     |  add_temperature(self, init_temperature, D=281000)\n",
      "     |  \n",
      "     |  adjust_timestep(self)\n",
      "     |  \n",
      "     |  change_boundary_conditions(self, element, i, bc_top=False, bc_top_type=False, bc_bot=False, bc_bot_type=False)\n",
      "     |  \n",
      "     |  contour_plot(self, element, labels=False, days=True, last_year=False)\n",
      "     |  \n",
      "     |  contour_plot_of_rates(self, element, labels=False, days=True, last_year=False)\n",
      "     |  \n",
      "     |  custom_plot(self, x, y, ttl='', y_lbl='', x_lbl='')\n",
      "     |  \n",
      "     |  estimate_flux_at_bottom(self, elem, order=4)\n",
      "     |      Function estimates flux at the bottom BC\n",
      "     |      \n",
      "     |      Args:\n",
      "     |          elem (TYPE): name of the element\n",
      "     |          order (int, optional): order of the Derivative\n",
      "     |      \n",
      "     |      Returns:\n",
      "     |          TYPE: estimated flux in time\n",
      "     |  \n",
      "     |  estimate_flux_at_top(self, elem, order=4)\n",
      "     |      Function estimates flux at the top BC\n",
      "     |      \n",
      "     |      Args:\n",
      "     |          elem (TYPE): name of the element\n",
      "     |          order (int, optional): order of the Derivative\n",
      "     |      \n",
      "     |      Returns:\n",
      "     |          TYPE: estimated flux in time\n",
      "     |  \n",
      "     |  estimate_time_of_computation(self, i)\n",
      "     |  \n",
      "     |  integrate_one_timestep(self, i)\n",
      "     |  \n",
      "     |  is_solute(self, element)\n",
      "     |  \n",
      "     |  new_top_boundary_condition(self, element, bc)\n",
      "     |  \n",
      "     |  plot_contourplots(self, **kwargs)\n",
      "     |  \n",
      "     |  plot_contourplots_of_rates(self, **kwargs)\n",
      "     |  \n",
      "     |  plot_depths(self, element, depths=[0, 1, 2, 3, 4], years_to_plot=10, days=True)\n",
      "     |  \n",
      "     |  plot_profile(self, element)\n",
      "     |  \n",
      "     |  plot_profiles(self)\n",
      "     |  \n",
      "     |  plot_times(self, element, time_slices=[0, 1, 2, 3, 4])\n",
      "     |  \n",
      "     |  reactions_integrate(self, i)\n",
      "     |  \n",
      "     |  reset_concentration_matrices(self)\n",
      "     |  \n",
      "     |  restart_solve(self)\n",
      "     |  \n",
      "     |  solve(self, do_adjust=True)\n",
      "     |  \n",
      "     |  template_AL_AR(self, element)\n",
      "     |  \n",
      "     |  transport_integrate(self, i)\n",
      "     |      The possible place to parallel execution\n",
      "     |  \n",
      "     |  update_matrices_due_to_bc(self, element, i)\n",
      "     |  \n",
      "     |  ----------------------------------------------------------------------\n",
      "     |  Data descriptors defined here:\n",
      "     |  \n",
      "     |  __dict__\n",
      "     |      dictionary for instance variables (if defined)\n",
      "     |  \n",
      "     |  __weakref__\n",
      "     |      list of weak references to the object (if defined)\n",
      "\n",
      "FUNCTIONS\n",
      "    reaction_equation_plot()\n",
      "        Check the reaction equation integrator\n",
      "    \n",
      "    transport_equation_plot()\n",
      "        Check the transport equation integrator\n",
      "\n",
      "DATA\n",
      "    __test__ = {}\n",
      "\n",
      "FILE\n",
      "    /Users/MarkelovIgor/git/biogeochemistry/PorousMedia/lib/PorousMediaLab.cpython-35m-darwin.so\n",
      "\n",
      "\n"
     ]
    }
   ],
   "source": [
    "help(PorousMediaLab)"
   ]
  },
  {
   "cell_type": "markdown",
   "metadata": {},
   "source": [
    "#### Setting up the properties of time-space and create the domain:"
   ]
  },
  {
   "cell_type": "code",
   "execution_count": 15,
   "metadata": {
    "collapsed": false
   },
   "outputs": [],
   "source": [
    "t = 27 / 365\n",
    "dx = 0.2\n",
    "L = 40\n",
    "phi = 0.4\n",
    "dt = 1e-5\n",
    "ftc = PorousMediaLab.PorousMediaLab(L, dx, t, dt, phi)"
   ]
  },
  {
   "cell_type": "markdown",
   "metadata": {},
   "source": [
    "#### Adding species with names, diffusion coefficients, initial concentrations and boundary top and bottom conditions:"
   ]
  },
  {
   "cell_type": "code",
   "execution_count": 16,
   "metadata": {
    "collapsed": false
   },
   "outputs": [],
   "source": [
    "ftc.add_species(is_solute=True, element='O2', D=368, init_C=0, bc_top=0.231, bc_top_type='dirichlet', bc_bot=0, bc_bot_type='flux')\n",
    "ftc.add_species(is_solute=True, element='CO2', D=320, init_C=0, bc_top=0, bc_top_type='flux', bc_bot=0, bc_bot_type='flux')\n",
    "ftc.add_species(is_solute=True, element='Fe2', D=127, init_C=0, bc_top=0, bc_top_type='flux', bc_bot=0, bc_bot_type='flux')\n",
    "ftc.add_solid_species('OM', init_C=15)\n",
    "ftc.add_solute_species('CO2', D=320, init_C=0)"
   ]
  },
  {
   "cell_type": "markdown",
   "metadata": {},
   "source": [
    "#### Non-trivial inital conditions for iron:"
   ]
  },
  {
   "cell_type": "code",
   "execution_count": 17,
   "metadata": {
    "collapsed": true
   },
   "outputs": [],
   "source": [
    "x = np.linspace(0, L, L / dx + 1)\n",
    "Fe3_init = np.zeros(x.size)\n",
    "Fe3_init[x > 5] = 75\n",
    "Fe3_init[x > 15] = 0\n",
    "Fe3_init[x > 25] = 75\n",
    "Fe3_init[x > 35] = 0\n",
    "\n",
    "ftc.add_solid_species('FeOH3', Fe3_init)"
   ]
  },
  {
   "cell_type": "markdown",
   "metadata": {},
   "source": [
    "#### Specify the constants used in the rates:"
   ]
  },
  {
   "cell_type": "code",
   "execution_count": 18,
   "metadata": {
    "collapsed": true
   },
   "outputs": [],
   "source": [
    "ftc.constants['k_OM'] = 1\n",
    "ftc.constants['Km_O2'] = 20e-3\n",
    "ftc.constants['Km_FeOH3'] = 10\n",
    "ftc.constants['k8'] = 1.4e+5"
   ]
  },
  {
   "cell_type": "markdown",
   "metadata": {},
   "source": [
    "#### Specify the equations for rates:"
   ]
  },
  {
   "cell_type": "code",
   "execution_count": 19,
   "metadata": {
    "collapsed": true
   },
   "outputs": [],
   "source": [
    "ftc.rates['R1'] = 'k_OM * OM * O2 / (Km_O2 + O2)'\n",
    "ftc.rates['R2'] = 'k_OM * OM * FeOH3 / (Km_FeOH3 + FeOH3) * Km_O2 / (Km_O2 + O2)'\n",
    "ftc.rates['R8'] = 'k8 * O2 * Fe2'"
   ]
  },
  {
   "cell_type": "markdown",
   "metadata": {},
   "source": [
    "#### ODEs for specific species:"
   ]
  },
  {
   "cell_type": "code",
   "execution_count": null,
   "metadata": {
    "collapsed": true
   },
   "outputs": [],
   "source": [
    "ftc.dcdt['OM'] = '-R1-R2'\n",
    "ftc.dcdt['O2'] = '-R1-R8'\n",
    "ftc.dcdt['FeOH3'] = '-4*R2+R8'\n",
    "ftc.dcdt['Fe2'] = '-R8+4*R2'\n",
    "ftc.dcdt['CO2'] = 'R1+R2'"
   ]
  },
  {
   "cell_type": "markdown",
   "metadata": {},
   "source": [
    "#### Because we are changing the boundary conditions for temperature and Oxygen (when T < 0 => no oxygen at the top), then we need to have a time loop:"
   ]
  },
  {
   "cell_type": "code",
   "execution_count": null,
   "metadata": {
    "collapsed": false
   },
   "outputs": [
    {
     "name": "stdout",
     "output_type": "stream",
     "text": [
      "Simulation starts  with following params:\n",
      "\ttend = 0.1 years,\n",
      "\tdt = 1.00e-05 years,\n",
      "\tL = 40.0,\n",
      "\tdx = 2.00e-01,\n",
      "\tw = 0.00\n",
      "('Simulation started:\\n\\t', '2017-05-30 21:46:58')\n",
      "\n",
      "\n",
      "Estimated time of the code execution:\n",
      "\t 0h:00m:22s\n",
      "('Will finish approx.:\\n\\t', '2017-05-30 21:47:21')\n"
     ]
    }
   ],
   "source": [
    "%prun ftc.solve()"
   ]
  },
  {
   "cell_type": "markdown",
   "metadata": {},
   "source": [
    "### Concentrations of different species during the whole period of simulation:"
   ]
  },
  {
   "cell_type": "code",
   "execution_count": null,
   "metadata": {
    "collapsed": false,
    "scrolled": false
   },
   "outputs": [],
   "source": [
    "ftc.plot_contourplots()"
   ]
  },
  {
   "cell_type": "markdown",
   "metadata": {},
   "source": [
    "### The rates of consumption and production of species:"
   ]
  },
  {
   "cell_type": "code",
   "execution_count": null,
   "metadata": {
    "collapsed": false,
    "scrolled": false
   },
   "outputs": [],
   "source": [
    "ftc.plot_contourplots_of_rates()"
   ]
  },
  {
   "cell_type": "markdown",
   "metadata": {},
   "source": [
    "### Profiles at the end of the simulation"
   ]
  },
  {
   "cell_type": "code",
   "execution_count": null,
   "metadata": {
    "collapsed": false,
    "scrolled": false
   },
   "outputs": [],
   "source": [
    "ftc.plot_profiles()"
   ]
  },
  {
   "cell_type": "code",
   "execution_count": null,
   "metadata": {
    "collapsed": true
   },
   "outputs": [],
   "source": []
  }
 ],
 "metadata": {
  "anaconda-cloud": {},
  "kernelspec": {
   "display_name": "Python [conda root]",
   "language": "python",
   "name": "conda-root-py"
  },
  "language_info": {
   "codemirror_mode": {
    "name": "ipython",
    "version": 3
   },
   "file_extension": ".py",
   "mimetype": "text/x-python",
   "name": "python",
   "nbconvert_exporter": "python",
   "pygments_lexer": "ipython3",
   "version": "3.5.3"
  }
 },
 "nbformat": 4,
 "nbformat_minor": 1
}
