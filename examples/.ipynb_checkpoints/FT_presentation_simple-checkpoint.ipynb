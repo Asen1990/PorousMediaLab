{
 "cells": [
  {
   "cell_type": "markdown",
   "metadata": {},
   "source": [
    "#### Import libraries:"
   ]
  },
  {
   "cell_type": "code",
   "execution_count": 19,
   "metadata": {
    "collapsed": true
   },
   "outputs": [],
   "source": [
    "import matplotlib.pyplot as plt\n",
    "import numpy as np\n",
    "%matplotlib inline\n",
    "\n",
    "from porousmedialab.column import Column"
   ]
  },
  {
   "cell_type": "code",
   "execution_count": 20,
   "metadata": {
    "scrolled": true
   },
   "outputs": [
    {
     "name": "stdout",
     "output_type": "stream",
     "text": [
      "Help on class Column in module porousmedialab.column:\n",
      "\n",
      "class Column(porousmedialab.lab.Lab)\n",
      " |  Column module solves Advection-Diffusion-Reaction Equation in porous media\n",
      " |  \n",
      " |  Method resolution order:\n",
      " |      Column\n",
      " |      porousmedialab.lab.Lab\n",
      " |      builtins.object\n",
      " |  \n",
      " |  Methods defined here:\n",
      " |  \n",
      " |  __init__(self, length, dx, tend, dt, phi, w=0)\n",
      " |      Initialize self.  See help(type(self)) for accurate signature.\n",
      " |  \n",
      " |  acid_base_update_concentrations(self, i)\n",
      " |  \n",
      " |  add_solid_species(self, element, init_C)\n",
      " |  \n",
      " |  add_solute_species(self, element, D, init_C)\n",
      " |  \n",
      " |  add_species(self, is_solute, element, D, init_C, bc_top, bc_top_type, bc_bot, bc_bot_type, w=False, int_transport=True)\n",
      " |  \n",
      " |  add_temperature(self, init_temperature, D=281000)\n",
      " |  \n",
      " |  change_boundary_conditions(self, element, i, bc_top=False, bc_top_type=False, bc_bot=False, bc_bot_type=False)\n",
      " |  \n",
      " |  contour_plot(lab, element, labels=False, days=False, last_year=False)\n",
      " |  \n",
      " |  contour_plot_of_delta(lab, element, labels=False, last_year=False)\n",
      " |  \n",
      " |  contour_plot_of_rates(lab, r, labels=False, last_year=False)\n",
      " |  \n",
      " |  create_acid_base_system(self)\n",
      " |  \n",
      " |  custom_plot(lab, x, y, ttl='', y_lbl='', x_lbl='')\n",
      " |  \n",
      " |  estimate_flux_at_bottom(self, elem, idx=slice(None, None, None), order=4)\n",
      " |      Function estimates flux at the bottom BC\n",
      " |      \n",
      " |      Args:\n",
      " |          elem (TYPE): name of the element\n",
      " |          order (int, optional): order of the Derivative\n",
      " |      \n",
      " |      Returns:\n",
      " |          TYPE: estimated flux in time\n",
      " |  \n",
      " |  estimate_flux_at_top(self, elem, idx=slice(None, None, None), order=4)\n",
      " |      Function estimates flux at the top BC\n",
      " |      \n",
      " |      Args:\n",
      " |          elem (TYPE): name of the element\n",
      " |          order (int, optional): order of the Derivative\n",
      " |      \n",
      " |      Returns:\n",
      " |          TYPE: estimated flux in time\n",
      " |  \n",
      " |  integrate_one_timestep(self, i)\n",
      " |  \n",
      " |  is_solute(self, element)\n",
      " |  \n",
      " |  new_top_boundary_condition(self, element, bc)\n",
      " |  \n",
      " |  plot_contourplots(lab, **kwargs)\n",
      " |  \n",
      " |  plot_contourplots_of_deltas(lab, **kwargs)\n",
      " |  \n",
      " |  plot_contourplots_of_rates(lab, **kwargs)\n",
      " |  \n",
      " |  plot_depths(lab, element, depths=[0, 1, 2, 3, 4], time_to_plot=False)\n",
      " |  \n",
      " |  plot_profile(lab, element)\n",
      " |  \n",
      " |  plot_profiles(lab)\n",
      " |  \n",
      " |  plot_saturation_index = saturation_index_countour(lab, elem1, elem2, Ks, labels=False)\n",
      " |  \n",
      " |  plot_times(lab, element, time_slices=[0, 1, 2, 3, 4])\n",
      " |  \n",
      " |  reactions_integrate(self, i)\n",
      " |  \n",
      " |  template_AL_AR(self, element)\n",
      " |  \n",
      " |  transport_integrate(self, i)\n",
      " |      Integrates transport equations\n",
      " |  \n",
      " |  transport_integrate_one_element(self, element, i)\n",
      " |  \n",
      " |  update_matrices_due_to_bc(self, element, i)\n",
      " |  \n",
      " |  ----------------------------------------------------------------------\n",
      " |  Methods inherited from porousmedialab.lab.Lab:\n",
      " |  \n",
      " |  __getattr__(self, attr)\n",
      " |  \n",
      " |  acid_base_equilibrium_solve(self, i)\n",
      " |  \n",
      " |  acid_base_solve_ph(self, i)\n",
      " |  \n",
      " |  add_acid(self, species, pKa, charge=0)\n",
      " |  \n",
      " |  add_ion(self, element, charge)\n",
      " |  \n",
      " |  add_partition_equilibrium(self, aq, gas, Hcc)\n",
      " |      For partition reactions between 2 species\n",
      " |      \n",
      " |      Args:\n",
      " |          aq (string): name of aquatic species\n",
      " |          gas (string): name of gaseous species\n",
      " |          Hcc (double): Henry Law Constant\n",
      " |  \n",
      " |  change_concentration_profile(self, element, i, new_profile)\n",
      " |  \n",
      " |  create_dynamic_functions(self)\n",
      " |  \n",
      " |  estimate_time_of_computation(self, i)\n",
      " |  \n",
      " |  henry_equilibrium_integrate(self, i)\n",
      " |  \n",
      " |  init_rates_arrays(self)\n",
      " |  \n",
      " |  pre_run_methods(self)\n",
      " |  \n",
      " |  reactions_integrate_scipy(self, i)\n",
      " |  \n",
      " |  reconstruct_rates(self)\n",
      " |  \n",
      " |  solve(self)\n",
      " |  \n",
      " |  ----------------------------------------------------------------------\n",
      " |  Data descriptors inherited from porousmedialab.lab.Lab:\n",
      " |  \n",
      " |  __dict__\n",
      " |      dictionary for instance variables (if defined)\n",
      " |  \n",
      " |  __weakref__\n",
      " |      list of weak references to the object (if defined)\n",
      "\n"
     ]
    }
   ],
   "source": [
    "help(Column)"
   ]
  },
  {
   "cell_type": "markdown",
   "metadata": {},
   "source": [
    "#### Setting up the properties of time-space and create the domain:"
   ]
  },
  {
   "cell_type": "code",
   "execution_count": 21,
   "metadata": {
    "collapsed": true
   },
   "outputs": [],
   "source": [
    "t = 27 / 365\n",
    "dx = 0.2\n",
    "L = 40\n",
    "phi = 0.4\n",
    "dt = 1e-5\n",
    "ftc = Column(L, dx, t, dt, phi)"
   ]
  },
  {
   "cell_type": "markdown",
   "metadata": {},
   "source": [
    "#### Adding species with names, diffusion coefficients, initial concentrations and boundary top and bottom conditions:"
   ]
  },
  {
   "cell_type": "code",
   "execution_count": 22,
   "metadata": {
    "collapsed": true
   },
   "outputs": [],
   "source": [
    "ftc.add_species(is_solute=True, element='O2', D=368, init_C=0, bc_top=0.231, bc_top_type='dirichlet', bc_bot=0, bc_bot_type='flux')\n",
    "ftc.add_species(is_solute=True, element='CO2', D=320, init_C=0, bc_top=0, bc_top_type='flux', bc_bot=0, bc_bot_type='flux')\n",
    "ftc.add_species(is_solute=True, element='Fe2', D=127, init_C=0, bc_top=0, bc_top_type='flux', bc_bot=0, bc_bot_type='flux')\n",
    "ftc.add_solid_species('OM', init_C=15)\n",
    "ftc.add_solute_species('CO2', D=320, init_C=0)"
   ]
  },
  {
   "cell_type": "markdown",
   "metadata": {},
   "source": [
    "#### Non-trivial inital conditions for iron:"
   ]
  },
  {
   "cell_type": "code",
   "execution_count": 23,
   "metadata": {
    "collapsed": true
   },
   "outputs": [],
   "source": [
    "x = np.linspace(0, L, L / dx + 1)\n",
    "Fe3_init = np.zeros(x.size)\n",
    "Fe3_init[x > 5] = 75\n",
    "Fe3_init[x > 15] = 0\n",
    "Fe3_init[x > 25] = 75\n",
    "Fe3_init[x > 35] = 0\n",
    "\n",
    "ftc.add_solid_species('FeOH3', Fe3_init)"
   ]
  },
  {
   "cell_type": "markdown",
   "metadata": {},
   "source": [
    "#### Specify the constants used in the rates:"
   ]
  },
  {
   "cell_type": "code",
   "execution_count": 24,
   "metadata": {
    "collapsed": true
   },
   "outputs": [],
   "source": [
    "ftc.constants['k_OM'] = 1\n",
    "ftc.constants['Km_O2'] = 20e-3\n",
    "ftc.constants['Km_FeOH3'] = 10\n",
    "ftc.constants['k8'] = 1.4e+5"
   ]
  },
  {
   "cell_type": "markdown",
   "metadata": {},
   "source": [
    "#### Specify the equations for rates:"
   ]
  },
  {
   "cell_type": "code",
   "execution_count": 25,
   "metadata": {
    "collapsed": true
   },
   "outputs": [],
   "source": [
    "ftc.rates['R1'] = 'k_OM * OM * O2 / (Km_O2 + O2)'\n",
    "ftc.rates['R2'] = 'k_OM * OM * FeOH3 / (Km_FeOH3 + FeOH3) * Km_O2 / (Km_O2 + O2)'\n",
    "ftc.rates['R8'] = 'k8 * O2 * Fe2'"
   ]
  },
  {
   "cell_type": "markdown",
   "metadata": {},
   "source": [
    "#### ODEs for specific species:"
   ]
  },
  {
   "cell_type": "code",
   "execution_count": 26,
   "metadata": {
    "collapsed": true
   },
   "outputs": [],
   "source": [
    "ftc.dcdt['OM'] = '-R1-R2'\n",
    "ftc.dcdt['O2'] = '-R1-R8'\n",
    "ftc.dcdt['FeOH3'] = '-4*R2+R8'\n",
    "ftc.dcdt['Fe2'] = '-R8+4*R2'\n",
    "ftc.dcdt['CO2'] = 'R1+R2'"
   ]
  },
  {
   "cell_type": "markdown",
   "metadata": {},
   "source": [
    "#### Because we are changing the boundary conditions for temperature and Oxygen (when T < 0 => no oxygen at the top), then we need to have a time loop:"
   ]
  },
  {
   "cell_type": "code",
   "execution_count": null,
   "metadata": {
    "collapsed": true
   },
   "outputs": [],
   "source": [
    "# %prun "
   ]
  },
  {
   "cell_type": "code",
   "execution_count": null,
   "metadata": {
    "scrolled": true
   },
   "outputs": [
    {
     "name": "stdout",
     "output_type": "stream",
     "text": [
      "Simulation started:\n",
      "\t 2017-09-19 17:04:59\n",
      "\n",
      "\n",
      "Estimated time of the code execution:\n",
      "\t 0h:05m:39s\n",
      "Will finish approx.:\n",
      "\t 2017-09-19 17:10:43\n"
     ]
    }
   ],
   "source": [
    "ftc.solve()"
   ]
  },
  {
   "cell_type": "markdown",
   "metadata": {},
   "source": [
    "### Concentrations of different species during the whole period of simulation:"
   ]
  },
  {
   "cell_type": "code",
   "execution_count": null,
   "metadata": {
    "scrolled": false
   },
   "outputs": [],
   "source": [
    "ftc.plot_contourplots()"
   ]
  },
  {
   "cell_type": "markdown",
   "metadata": {},
   "source": [
    "### The rates of consumption and production of species:"
   ]
  },
  {
   "cell_type": "code",
   "execution_count": null,
   "metadata": {
    "scrolled": false
   },
   "outputs": [],
   "source": [
    "ftc.plot_contourplots_of_rates()"
   ]
  },
  {
   "cell_type": "markdown",
   "metadata": {},
   "source": [
    "### Profiles at the end of the simulation"
   ]
  },
  {
   "cell_type": "code",
   "execution_count": null,
   "metadata": {
    "scrolled": false
   },
   "outputs": [],
   "source": [
    "ftc.plot_profiles()"
   ]
  },
  {
   "cell_type": "code",
   "execution_count": null,
   "metadata": {},
   "outputs": [],
   "source": [
    "len(ftc.species)"
   ]
  },
  {
   "cell_type": "code",
   "execution_count": null,
   "metadata": {
    "collapsed": true
   },
   "outputs": [],
   "source": []
  }
 ],
 "metadata": {
  "anaconda-cloud": {},
  "kernelspec": {
   "display_name": "Python [conda root]",
   "language": "python",
   "name": "conda-root-py"
  },
  "language_info": {
   "codemirror_mode": {
    "name": "ipython",
    "version": 3
   },
   "file_extension": ".py",
   "mimetype": "text/x-python",
   "name": "python",
   "nbconvert_exporter": "python",
   "pygments_lexer": "ipython3",
   "version": "3.5.2"
  }
 },
 "nbformat": 4,
 "nbformat_minor": 1
}
