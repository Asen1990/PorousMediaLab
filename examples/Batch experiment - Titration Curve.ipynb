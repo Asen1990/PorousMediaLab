{
 "cells": [
  {
   "cell_type": "code",
   "execution_count": 10,
   "metadata": {
    "collapsed": true
   },
   "outputs": [],
   "source": [
    "import matplotlib.pyplot as plt\n",
    "import sys\n",
    "sys.path.append('../src')\n",
    "from BatchLab import BatchLab\n",
    "import numpy as np\n",
    "%matplotlib inline"
   ]
  },
  {
   "cell_type": "code",
   "execution_count": 11,
   "metadata": {
    "collapsed": true
   },
   "outputs": [],
   "source": [
    "tend = 30\n",
    "dt = 0.1"
   ]
  },
  {
   "cell_type": "code",
   "execution_count": 12,
   "metadata": {
    "collapsed": true
   },
   "outputs": [],
   "source": [
    "bl = BatchLab(tend, dt)"
   ]
  },
  {
   "cell_type": "code",
   "execution_count": null,
   "metadata": {
    "collapsed": true
   },
   "outputs": [],
   "source": [
    "C_init=0.1/4\n",
    "bl.add_species(element='H3PO4', init_C=C_init)\n",
    "bl.add_species(element='H2PO4', init_C=C_init)\n",
    "bl.add_species(element='HPO4', init_C=C_init)\n",
    "bl.add_species(element='PO4', init_C=C_init)\n",
    "\n",
    "bl.add_acid(species=['H3PO4', 'H2PO4', 'HPO4', 'PO4'], pKa=[2.148, 7.198, 12.375])\n",
    "\n",
    "\n",
    "# Titrant: Na+\n",
    "bl.add_species(element='Na', init_C=0)\n",
    "bl.add_ion(element='Na', charge=1)"
   ]
  },
  {
   "cell_type": "code",
   "execution_count": null,
   "metadata": {
    "collapsed": true
   },
   "outputs": [],
   "source": [
    "bl.dcdt['Na'] = '1e-2'"
   ]
  },
  {
   "cell_type": "code",
   "execution_count": null,
   "metadata": {
    "scrolled": false
   },
   "outputs": [],
   "source": [
    "bl.solve()"
   ]
  },
  {
   "cell_type": "code",
   "execution_count": null,
   "metadata": {
    "scrolled": false
   },
   "outputs": [],
   "source": [
    "bl.plot_profiles()"
   ]
  },
  {
   "cell_type": "code",
   "execution_count": null,
   "metadata": {},
   "outputs": [],
   "source": [
    "bl.plot_fractions()"
   ]
  },
  {
   "cell_type": "code",
   "execution_count": null,
   "metadata": {},
   "outputs": [],
   "source": [
    "fig, ax1 = plt.subplots()\n",
    "ax2 = ax1.twinx()\n",
    "ax1.plot(bl.time, bl.pH['concentration'][0], 'k-.', lw=3, label='pH')\n",
    "ax2.plot(bl.time, np.log10(bl.H3PO4['concentration'][0]), label='H3PO4', lw=3)\n",
    "ax2.plot(bl.time, np.log10(bl.H2PO4['concentration'][0]), label='H2PO4', lw=3)\n",
    "ax2.plot(bl.time, np.log10(bl.HPO4['concentration'][0]), label='HPO4', lw=3)\n",
    "ax2.plot(bl.time, np.log10(bl.PO4['concentration'][0]), label='PO4', lw=3)\n",
    "ax1.set_ylim(0,14)\n",
    "ax2.set_ylim(-6,-1)\n",
    "ax1.grid(lw=0.2)\n",
    "ax2.grid(lw=0.2)\n",
    "ax1.set_xlabel('Time, [T]')\n",
    "ax1.set_ylabel('pH')\n",
    "ax2.set_ylabel('log (C)')\n",
    "ax2.legend(loc=4, frameon=1)\n",
    "ax1.legend(loc=3, frameon=1)"
   ]
  },
  {
   "cell_type": "code",
   "execution_count": null,
   "metadata": {
    "collapsed": true
   },
   "outputs": [],
   "source": []
  }
 ],
 "metadata": {
  "anaconda-cloud": {},
  "kernelspec": {
   "display_name": "Python [conda root]",
   "language": "python",
   "name": "conda-root-py"
  },
  "language_info": {
   "codemirror_mode": {
    "name": "ipython",
    "version": 3
   },
   "file_extension": ".py",
   "mimetype": "text/x-python",
   "name": "python",
   "nbconvert_exporter": "python",
   "pygments_lexer": "ipython3",
   "version": "3.5.2"
  }
 },
 "nbformat": 4,
 "nbformat_minor": 1
}
