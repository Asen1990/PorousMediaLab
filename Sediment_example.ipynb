{
 "cells": [
  {
   "cell_type": "code",
   "execution_count": null,
   "metadata": {
    "collapsed": true
   },
   "outputs": [],
   "source": [
    "%matplotlib inline"
   ]
  },
  {
   "cell_type": "code",
   "execution_count": null,
   "metadata": {
    "collapsed": false,
    "scrolled": false
   },
   "outputs": [
    {
     "name": "stdout",
     "output_type": "stream",
     "text": [
      "Simulation of sediment core with following params:\n",
      "\ttend = 100.0 years,\n",
      "\tdt = 1.00e-01 years,\n",
      "\tL = 25.0,\n",
      "\tdx = 2.00e-01,\n",
      "\tw = 0.20\n",
      "Simulation started:\n",
      "\t 2017-02-13 09:51:15\n",
      "\n",
      "Warning: Numerical instability. adjusting dt...\n",
      "Time step was reduced to\n",
      "\tdt = 1.00e-02.\n",
      "\n",
      "Warning: Numerical instability. adjusting dt...\n",
      "Time step was reduced to\n",
      "\tdt = 1.00e-03.\n",
      "\n",
      "Warning: Numerical instability. adjusting dt...\n",
      "Time step was reduced to\n",
      "\tdt = 1.00e-04.\n",
      "\n",
      "\n",
      "Estimated time of the code execution:\n",
      "\t 3h:06m:36s\n",
      "Will finish approx.:\n",
      "\t 2017-02-13 12:57:53\n"
     ]
    }
   ],
   "source": [
    "%run -t examples/pvc_1996_sediment.py"
   ]
  },
  {
   "cell_type": "code",
   "execution_count": null,
   "metadata": {
    "collapsed": false,
    "scrolled": true
   },
   "outputs": [],
   "source": [
    "sediment.plot_contourplots()"
   ]
  },
  {
   "cell_type": "code",
   "execution_count": null,
   "metadata": {
    "collapsed": false,
    "scrolled": true
   },
   "outputs": [],
   "source": [
    "sediment.plot_contourplots_of_rates()"
   ]
  },
  {
   "cell_type": "code",
   "execution_count": null,
   "metadata": {
    "collapsed": false,
    "scrolled": false
   },
   "outputs": [],
   "source": [
    "sediment.plot_profiles()"
   ]
  },
  {
   "cell_type": "code",
   "execution_count": null,
   "metadata": {
    "collapsed": false
   },
   "outputs": [],
   "source": [
    "sediment.plot_depths('O2',[0.5])"
   ]
  },
  {
   "cell_type": "code",
   "execution_count": null,
   "metadata": {
    "collapsed": true
   },
   "outputs": [],
   "source": []
  }
 ],
 "metadata": {
  "anaconda-cloud": {},
  "kernelspec": {
   "display_name": "Python [conda root]",
   "language": "python",
   "name": "conda-root-py"
  },
  "language_info": {
   "codemirror_mode": {
    "name": "ipython",
    "version": 3
   },
   "file_extension": ".py",
   "mimetype": "text/x-python",
   "name": "python",
   "nbconvert_exporter": "python",
   "pygments_lexer": "ipython3",
   "version": "3.5.2"
  }
 },
 "nbformat": 4,
 "nbformat_minor": 1
}
